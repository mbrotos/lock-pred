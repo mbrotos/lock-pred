{
 "cells": [
  {
   "cell_type": "code",
   "execution_count": 3,
   "metadata": {},
   "outputs": [
    {
     "data": {
      "text/html": [
       "<div>\n",
       "<style scoped>\n",
       "    .dataframe tbody tr th:only-of-type {\n",
       "        vertical-align: middle;\n",
       "    }\n",
       "\n",
       "    .dataframe tbody tr th {\n",
       "        vertical-align: top;\n",
       "    }\n",
       "\n",
       "    .dataframe thead th {\n",
       "        text-align: right;\n",
       "    }\n",
       "</style>\n",
       "<table border=\"1\" class=\"dataframe\">\n",
       "  <thead>\n",
       "    <tr style=\"text-align: right;\">\n",
       "      <th></th>\n",
       "      <th>PAGEID</th>\n",
       "      <th>TABSCHEMA</th>\n",
       "      <th>TABNAME</th>\n",
       "    </tr>\n",
       "  </thead>\n",
       "  <tbody>\n",
       "    <tr>\n",
       "      <th>0</th>\n",
       "      <td>4</td>\n",
       "      <td>SYSIBM</td>\n",
       "      <td>SYSDATATYPES</td>\n",
       "    </tr>\n",
       "    <tr>\n",
       "      <th>1</th>\n",
       "      <td>4</td>\n",
       "      <td>SYSIBM</td>\n",
       "      <td>SYSDATATYPES</td>\n",
       "    </tr>\n",
       "    <tr>\n",
       "      <th>2</th>\n",
       "      <td>4</td>\n",
       "      <td>SYSIBM</td>\n",
       "      <td>SYSDATATYPES</td>\n",
       "    </tr>\n",
       "    <tr>\n",
       "      <th>3</th>\n",
       "      <td>73301</td>\n",
       "      <td>DB2ADMIN</td>\n",
       "      <td>ORDER_LINE</td>\n",
       "    </tr>\n",
       "    <tr>\n",
       "      <th>4</th>\n",
       "      <td>73301</td>\n",
       "      <td>DB2ADMIN</td>\n",
       "      <td>ORDER_LINE</td>\n",
       "    </tr>\n",
       "  </tbody>\n",
       "</table>\n",
       "</div>"
      ],
      "text/plain": [
       "   PAGEID TABSCHEMA       TABNAME\n",
       "0       4    SYSIBM  SYSDATATYPES\n",
       "1       4    SYSIBM  SYSDATATYPES\n",
       "2       4    SYSIBM  SYSDATATYPES\n",
       "3   73301  DB2ADMIN    ORDER_LINE\n",
       "4   73301  DB2ADMIN    ORDER_LINE"
      ]
     },
     "execution_count": 3,
     "metadata": {},
     "output_type": "execute_result"
    }
   ],
   "source": [
    "import pandas as pd\n",
    "\n",
    "def clean_data(df):\n",
    "    # Drop columns: 'Original Lockname', 'Lockname' and 11 other columns\n",
    "    df = df.drop(columns=['Original Lockname', 'Lockname', 'Start Timestamp', 'End Timestamp', 'Start_Duration', 'End_Duration', 'curIntent', 'intent', 'mode', 'LOCK_OBJECT_TYPE    ', 'ROWID               ', 'DATA_PARTITION_ID   ', 'TBSP_NAME           '])\n",
    "    # Strip column names\n",
    "    df.columns = df.columns.str.strip()\n",
    "    return df\n",
    "\n",
    "# Loaded variable 'df' from URI: /home/adam/Documents/GitHub/lock-pred/data/row_locks.csv\n",
    "df = pd.read_csv(r'/home/adam/Documents/GitHub/lock-pred/data/row_locks.csv')\n",
    "\n",
    "df_clean = clean_data(df.copy())\n",
    "df_clean.head()"
   ]
  },
  {
   "cell_type": "code",
   "execution_count": 4,
   "metadata": {},
   "outputs": [
    {
     "data": {
      "text/html": [
       "<div>\n",
       "<style scoped>\n",
       "    .dataframe tbody tr th:only-of-type {\n",
       "        vertical-align: middle;\n",
       "    }\n",
       "\n",
       "    .dataframe tbody tr th {\n",
       "        vertical-align: top;\n",
       "    }\n",
       "\n",
       "    .dataframe thead th {\n",
       "        text-align: right;\n",
       "    }\n",
       "</style>\n",
       "<table border=\"1\" class=\"dataframe\">\n",
       "  <thead>\n",
       "    <tr style=\"text-align: right;\">\n",
       "      <th></th>\n",
       "      <th>PAGEID</th>\n",
       "      <th>TABSCHEMA</th>\n",
       "      <th>TABNAME</th>\n",
       "    </tr>\n",
       "  </thead>\n",
       "  <tbody>\n",
       "    <tr>\n",
       "      <th>0</th>\n",
       "      <td>4</td>\n",
       "      <td>SYSIBM</td>\n",
       "      <td>SYSDATATYPES</td>\n",
       "    </tr>\n",
       "    <tr>\n",
       "      <th>3</th>\n",
       "      <td>73301</td>\n",
       "      <td>DB2ADMIN</td>\n",
       "      <td>ORDER_LINE</td>\n",
       "    </tr>\n",
       "    <tr>\n",
       "      <th>18</th>\n",
       "      <td>70943</td>\n",
       "      <td>DB2ADMIN</td>\n",
       "      <td>ORDER_LINE</td>\n",
       "    </tr>\n",
       "    <tr>\n",
       "      <th>25</th>\n",
       "      <td>76731</td>\n",
       "      <td>DB2ADMIN</td>\n",
       "      <td>ORDER_LINE</td>\n",
       "    </tr>\n",
       "    <tr>\n",
       "      <th>33</th>\n",
       "      <td>80871</td>\n",
       "      <td>DB2ADMIN</td>\n",
       "      <td>ORDER_LINE</td>\n",
       "    </tr>\n",
       "  </tbody>\n",
       "</table>\n",
       "</div>"
      ],
      "text/plain": [
       "    PAGEID TABSCHEMA       TABNAME\n",
       "0        4    SYSIBM  SYSDATATYPES\n",
       "3    73301  DB2ADMIN    ORDER_LINE\n",
       "18   70943  DB2ADMIN    ORDER_LINE\n",
       "25   76731  DB2ADMIN    ORDER_LINE\n",
       "33   80871  DB2ADMIN    ORDER_LINE"
      ]
     },
     "execution_count": 4,
     "metadata": {},
     "output_type": "execute_result"
    }
   ],
   "source": [
    "df_clean = df_clean.drop_duplicates(subset='PAGEID', keep='first')\n",
    "df_clean.head()"
   ]
  },
  {
   "cell_type": "code",
   "execution_count": null,
   "metadata": {},
   "outputs": [],
   "source": []
  }
 ],
 "metadata": {
  "kernelspec": {
   "display_name": "lock-pred",
   "language": "python",
   "name": "python3"
  },
  "language_info": {
   "codemirror_mode": {
    "name": "ipython",
    "version": 3
   },
   "file_extension": ".py",
   "mimetype": "text/x-python",
   "name": "python",
   "nbconvert_exporter": "python",
   "pygments_lexer": "ipython3",
   "version": "3.11.0"
  }
 },
 "nbformat": 4,
 "nbformat_minor": 2
}
