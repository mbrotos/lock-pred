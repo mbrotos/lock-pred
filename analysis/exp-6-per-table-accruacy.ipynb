{
 "cells": [
  {
   "cell_type": "code",
   "execution_count": 1,
   "metadata": {},
   "outputs": [],
   "source": [
    "import pandas as pd\n",
    "import matplotlib.pyplot as plt\n",
    "import numpy as np"
   ]
  },
  {
   "cell_type": "code",
   "execution_count": null,
   "metadata": {},
   "outputs": [],
   "source": [
    "predictions = pd.read_parquet('data/exp-6-row-locks/predictions.parquet')\n",
    "predictions['is_correct'] = (predictions['gt_table'] == predictions['pred_table']) & (predictions['gt_pageid'] == predictions['pred_pageid'])\n",
    "\n",
    "in_lock_sequences = pd.read_parquet('data/exp-6-row-locks/in_lock_sequences.parquet')"
   ]
  },
  {
   "cell_type": "code",
   "execution_count": 4,
   "metadata": {},
   "outputs": [
    {
     "data": {
      "text/html": [
       "<div>\n",
       "<style scoped>\n",
       "    .dataframe tbody tr th:only-of-type {\n",
       "        vertical-align: middle;\n",
       "    }\n",
       "\n",
       "    .dataframe tbody tr th {\n",
       "        vertical-align: top;\n",
       "    }\n",
       "\n",
       "    .dataframe thead th {\n",
       "        text-align: right;\n",
       "    }\n",
       "</style>\n",
       "<table border=\"1\" class=\"dataframe\">\n",
       "  <thead>\n",
       "    <tr style=\"text-align: right;\">\n",
       "      <th></th>\n",
       "      <th>in_lock_sequences_id</th>\n",
       "      <th>model</th>\n",
       "      <th>data</th>\n",
       "      <th>train_data_percent_used</th>\n",
       "      <th>epochs</th>\n",
       "      <th>batch_size</th>\n",
       "      <th>learning_rate</th>\n",
       "      <th>seq_length</th>\n",
       "      <th>test_split</th>\n",
       "      <th>val_split</th>\n",
       "      <th>...</th>\n",
       "      <th>lstm_pe</th>\n",
       "      <th>naive_baseline</th>\n",
       "      <th>disable_cache</th>\n",
       "      <th>model_weights</th>\n",
       "      <th>gt_table</th>\n",
       "      <th>gt_pageid</th>\n",
       "      <th>pred_table</th>\n",
       "      <th>pred_pageid</th>\n",
       "      <th>horizon_position</th>\n",
       "      <th>unique_id</th>\n",
       "    </tr>\n",
       "  </thead>\n",
       "  <tbody>\n",
       "    <tr>\n",
       "      <th>0</th>\n",
       "      <td>1</td>\n",
       "      <td>transformer</td>\n",
       "      <td>data/fixed/row_locks.csv</td>\n",
       "      <td>1.0</td>\n",
       "      <td>30</td>\n",
       "      <td>32</td>\n",
       "      <td>0.001</td>\n",
       "      <td>50</td>\n",
       "      <td>0.3</td>\n",
       "      <td>0.0</td>\n",
       "      <td>...</td>\n",
       "      <td>False</td>\n",
       "      <td>False</td>\n",
       "      <td>False</td>\n",
       "      <td>results/fixed/exp-6-row-locks/char__transforme...</td>\n",
       "      <td>orderline</td>\n",
       "      <td>65381</td>\n",
       "      <td>orderline</td>\n",
       "      <td>65381.0</td>\n",
       "      <td>1</td>\n",
       "      <td>f07bf120-fc9b-4e2b-9970-1f4494171032</td>\n",
       "    </tr>\n",
       "    <tr>\n",
       "      <th>1</th>\n",
       "      <td>2</td>\n",
       "      <td>transformer</td>\n",
       "      <td>data/fixed/row_locks.csv</td>\n",
       "      <td>1.0</td>\n",
       "      <td>30</td>\n",
       "      <td>32</td>\n",
       "      <td>0.001</td>\n",
       "      <td>50</td>\n",
       "      <td>0.3</td>\n",
       "      <td>0.0</td>\n",
       "      <td>...</td>\n",
       "      <td>False</td>\n",
       "      <td>False</td>\n",
       "      <td>False</td>\n",
       "      <td>results/fixed/exp-6-row-locks/char__transforme...</td>\n",
       "      <td>stock</td>\n",
       "      <td>2531</td>\n",
       "      <td>stock</td>\n",
       "      <td>37711.0</td>\n",
       "      <td>1</td>\n",
       "      <td>0693c4e8-5795-42cd-8307-cb636d7736a1</td>\n",
       "    </tr>\n",
       "    <tr>\n",
       "      <th>2</th>\n",
       "      <td>3</td>\n",
       "      <td>transformer</td>\n",
       "      <td>data/fixed/row_locks.csv</td>\n",
       "      <td>1.0</td>\n",
       "      <td>30</td>\n",
       "      <td>32</td>\n",
       "      <td>0.001</td>\n",
       "      <td>50</td>\n",
       "      <td>0.3</td>\n",
       "      <td>0.0</td>\n",
       "      <td>...</td>\n",
       "      <td>False</td>\n",
       "      <td>False</td>\n",
       "      <td>False</td>\n",
       "      <td>results/fixed/exp-6-row-locks/char__transforme...</td>\n",
       "      <td>orderline</td>\n",
       "      <td>65381</td>\n",
       "      <td>orderline</td>\n",
       "      <td>65381.0</td>\n",
       "      <td>1</td>\n",
       "      <td>c61b91c0-3652-4cca-bc89-1ad329712175</td>\n",
       "    </tr>\n",
       "    <tr>\n",
       "      <th>3</th>\n",
       "      <td>4</td>\n",
       "      <td>transformer</td>\n",
       "      <td>data/fixed/row_locks.csv</td>\n",
       "      <td>1.0</td>\n",
       "      <td>30</td>\n",
       "      <td>32</td>\n",
       "      <td>0.001</td>\n",
       "      <td>50</td>\n",
       "      <td>0.3</td>\n",
       "      <td>0.0</td>\n",
       "      <td>...</td>\n",
       "      <td>False</td>\n",
       "      <td>False</td>\n",
       "      <td>False</td>\n",
       "      <td>results/fixed/exp-6-row-locks/char__transforme...</td>\n",
       "      <td>stock</td>\n",
       "      <td>77377</td>\n",
       "      <td>stock</td>\n",
       "      <td>21111.0</td>\n",
       "      <td>1</td>\n",
       "      <td>4a42bc36-5f58-4d75-a4f9-b7480b87eaa9</td>\n",
       "    </tr>\n",
       "    <tr>\n",
       "      <th>4</th>\n",
       "      <td>5</td>\n",
       "      <td>transformer</td>\n",
       "      <td>data/fixed/row_locks.csv</td>\n",
       "      <td>1.0</td>\n",
       "      <td>30</td>\n",
       "      <td>32</td>\n",
       "      <td>0.001</td>\n",
       "      <td>50</td>\n",
       "      <td>0.3</td>\n",
       "      <td>0.0</td>\n",
       "      <td>...</td>\n",
       "      <td>False</td>\n",
       "      <td>False</td>\n",
       "      <td>False</td>\n",
       "      <td>results/fixed/exp-6-row-locks/char__transforme...</td>\n",
       "      <td>stock</td>\n",
       "      <td>77377</td>\n",
       "      <td>stock</td>\n",
       "      <td>21111.0</td>\n",
       "      <td>1</td>\n",
       "      <td>1d24bd15-cae7-444e-a1c6-cc60041d7f47</td>\n",
       "    </tr>\n",
       "  </tbody>\n",
       "</table>\n",
       "<p>5 rows × 34 columns</p>\n",
       "</div>"
      ],
      "text/plain": [
       "   in_lock_sequences_id        model                      data  \\\n",
       "0                     1  transformer  data/fixed/row_locks.csv   \n",
       "1                     2  transformer  data/fixed/row_locks.csv   \n",
       "2                     3  transformer  data/fixed/row_locks.csv   \n",
       "3                     4  transformer  data/fixed/row_locks.csv   \n",
       "4                     5  transformer  data/fixed/row_locks.csv   \n",
       "\n",
       "   train_data_percent_used  epochs  batch_size  learning_rate  seq_length  \\\n",
       "0                      1.0      30          32          0.001          50   \n",
       "1                      1.0      30          32          0.001          50   \n",
       "2                      1.0      30          32          0.001          50   \n",
       "3                      1.0      30          32          0.001          50   \n",
       "4                      1.0      30          32          0.001          50   \n",
       "\n",
       "   test_split  val_split  ...  lstm_pe naive_baseline  disable_cache  \\\n",
       "0         0.3        0.0  ...    False          False          False   \n",
       "1         0.3        0.0  ...    False          False          False   \n",
       "2         0.3        0.0  ...    False          False          False   \n",
       "3         0.3        0.0  ...    False          False          False   \n",
       "4         0.3        0.0  ...    False          False          False   \n",
       "\n",
       "                                       model_weights   gt_table  gt_pageid  \\\n",
       "0  results/fixed/exp-6-row-locks/char__transforme...  orderline      65381   \n",
       "1  results/fixed/exp-6-row-locks/char__transforme...      stock       2531   \n",
       "2  results/fixed/exp-6-row-locks/char__transforme...  orderline      65381   \n",
       "3  results/fixed/exp-6-row-locks/char__transforme...      stock      77377   \n",
       "4  results/fixed/exp-6-row-locks/char__transforme...      stock      77377   \n",
       "\n",
       "   pred_table  pred_pageid  horizon_position  \\\n",
       "0   orderline      65381.0                 1   \n",
       "1       stock      37711.0                 1   \n",
       "2   orderline      65381.0                 1   \n",
       "3       stock      21111.0                 1   \n",
       "4       stock      21111.0                 1   \n",
       "\n",
       "                              unique_id  \n",
       "0  f07bf120-fc9b-4e2b-9970-1f4494171032  \n",
       "1  0693c4e8-5795-42cd-8307-cb636d7736a1  \n",
       "2  c61b91c0-3652-4cca-bc89-1ad329712175  \n",
       "3  4a42bc36-5f58-4d75-a4f9-b7480b87eaa9  \n",
       "4  1d24bd15-cae7-444e-a1c6-cc60041d7f47  \n",
       "\n",
       "[5 rows x 34 columns]"
      ]
     },
     "execution_count": 4,
     "metadata": {},
     "output_type": "execute_result"
    }
   ],
   "source": [
    "predictions.head()"
   ]
  },
  {
   "cell_type": "code",
   "execution_count": 48,
   "metadata": {},
   "outputs": [
    {
     "data": {
      "text/html": [
       "<div>\n",
       "<style scoped>\n",
       "    .dataframe tbody tr th:only-of-type {\n",
       "        vertical-align: middle;\n",
       "    }\n",
       "\n",
       "    .dataframe tbody tr th {\n",
       "        vertical-align: top;\n",
       "    }\n",
       "\n",
       "    .dataframe thead th {\n",
       "        text-align: right;\n",
       "    }\n",
       "</style>\n",
       "<table border=\"1\" class=\"dataframe\">\n",
       "  <thead>\n",
       "    <tr style=\"text-align: right;\">\n",
       "      <th></th>\n",
       "      <th>in_lock_sequences</th>\n",
       "      <th>in_lock_sequences_id</th>\n",
       "    </tr>\n",
       "  </thead>\n",
       "  <tbody>\n",
       "    <tr>\n",
       "      <th>0</th>\n",
       "      <td>customer 5 4 9 1 8 history 6 2 9 1 warehouse 4...</td>\n",
       "      <td>1</td>\n",
       "    </tr>\n",
       "    <tr>\n",
       "      <th>1</th>\n",
       "      <td>history 6 2 9 1 warehouse 4 district 4 custome...</td>\n",
       "      <td>2</td>\n",
       "    </tr>\n",
       "    <tr>\n",
       "      <th>2</th>\n",
       "      <td>warehouse 4 district 4 customer 3 9 1 3 8 hist...</td>\n",
       "      <td>3</td>\n",
       "    </tr>\n",
       "    <tr>\n",
       "      <th>3</th>\n",
       "      <td>district 4 customer 3 9 1 3 8 history 6 2 9 1 ...</td>\n",
       "      <td>4</td>\n",
       "    </tr>\n",
       "    <tr>\n",
       "      <th>4</th>\n",
       "      <td>customer 3 9 1 3 8 history 6 2 9 1 district 5 ...</td>\n",
       "      <td>5</td>\n",
       "    </tr>\n",
       "  </tbody>\n",
       "</table>\n",
       "</div>"
      ],
      "text/plain": [
       "                                   in_lock_sequences  in_lock_sequences_id\n",
       "0  customer 5 4 9 1 8 history 6 2 9 1 warehouse 4...                     1\n",
       "1  history 6 2 9 1 warehouse 4 district 4 custome...                     2\n",
       "2  warehouse 4 district 4 customer 3 9 1 3 8 hist...                     3\n",
       "3  district 4 customer 3 9 1 3 8 history 6 2 9 1 ...                     4\n",
       "4  customer 3 9 1 3 8 history 6 2 9 1 district 5 ...                     5"
      ]
     },
     "execution_count": 48,
     "metadata": {},
     "output_type": "execute_result"
    }
   ],
   "source": [
    "in_lock_sequences.head()"
   ]
  },
  {
   "cell_type": "markdown",
   "metadata": {},
   "source": [
    "---"
   ]
  },
  {
   "cell_type": "markdown",
   "metadata": {},
   "source": [
    "## Data Sanity Checks"
   ]
  },
  {
   "cell_type": "code",
   "execution_count": 49,
   "metadata": {},
   "outputs": [
    {
     "data": {
      "text/html": [
       "<div>\n",
       "<style scoped>\n",
       "    .dataframe tbody tr th:only-of-type {\n",
       "        vertical-align: middle;\n",
       "    }\n",
       "\n",
       "    .dataframe tbody tr th {\n",
       "        vertical-align: top;\n",
       "    }\n",
       "\n",
       "    .dataframe thead th {\n",
       "        text-align: right;\n",
       "    }\n",
       "</style>\n",
       "<table border=\"1\" class=\"dataframe\">\n",
       "  <thead>\n",
       "    <tr style=\"text-align: right;\">\n",
       "      <th></th>\n",
       "      <th>in_lock_sequences_id</th>\n",
       "      <th>train_data_percent_used</th>\n",
       "      <th>epochs</th>\n",
       "      <th>batch_size</th>\n",
       "      <th>learning_rate</th>\n",
       "      <th>seq_length</th>\n",
       "      <th>test_split</th>\n",
       "      <th>val_split</th>\n",
       "      <th>vocab_size</th>\n",
       "      <th>patience</th>\n",
       "      <th>horizon</th>\n",
       "      <th>gt_pageid</th>\n",
       "      <th>pred_pageid</th>\n",
       "      <th>horizon_position</th>\n",
       "    </tr>\n",
       "  </thead>\n",
       "  <tbody>\n",
       "    <tr>\n",
       "      <th>count</th>\n",
       "      <td>8.005883e+07</td>\n",
       "      <td>80058830.0</td>\n",
       "      <td>80058830.0</td>\n",
       "      <td>80058830.0</td>\n",
       "      <td>8.005883e+07</td>\n",
       "      <td>80058830.0</td>\n",
       "      <td>8.005883e+07</td>\n",
       "      <td>80058830.0</td>\n",
       "      <td>80058830.0</td>\n",
       "      <td>80058830.0</td>\n",
       "      <td>80058830.0</td>\n",
       "      <td>8.005883e+07</td>\n",
       "      <td>8.004642e+07</td>\n",
       "      <td>80058830.0</td>\n",
       "    </tr>\n",
       "    <tr>\n",
       "      <th>mean</th>\n",
       "      <td>3.622722e+05</td>\n",
       "      <td>1.0</td>\n",
       "      <td>30.0</td>\n",
       "      <td>32.0</td>\n",
       "      <td>1.000000e-03</td>\n",
       "      <td>50.0</td>\n",
       "      <td>3.000000e-01</td>\n",
       "      <td>0.0</td>\n",
       "      <td>900.0</td>\n",
       "      <td>5.0</td>\n",
       "      <td>3.0</td>\n",
       "      <td>4.946564e+04</td>\n",
       "      <td>1.725425e+15</td>\n",
       "      <td>2.0</td>\n",
       "    </tr>\n",
       "    <tr>\n",
       "      <th>std</th>\n",
       "      <td>2.104680e+05</td>\n",
       "      <td>0.0</td>\n",
       "      <td>0.0</td>\n",
       "      <td>0.0</td>\n",
       "      <td>2.385245e-18</td>\n",
       "      <td>0.0</td>\n",
       "      <td>3.241851e-14</td>\n",
       "      <td>0.0</td>\n",
       "      <td>0.0</td>\n",
       "      <td>0.0</td>\n",
       "      <td>1.0</td>\n",
       "      <td>2.659063e+04</td>\n",
       "      <td>1.036102e+19</td>\n",
       "      <td>1.0</td>\n",
       "    </tr>\n",
       "    <tr>\n",
       "      <th>min</th>\n",
       "      <td>1.000000e+00</td>\n",
       "      <td>1.0</td>\n",
       "      <td>30.0</td>\n",
       "      <td>32.0</td>\n",
       "      <td>1.000000e-03</td>\n",
       "      <td>50.0</td>\n",
       "      <td>3.000000e-01</td>\n",
       "      <td>0.0</td>\n",
       "      <td>900.0</td>\n",
       "      <td>5.0</td>\n",
       "      <td>1.0</td>\n",
       "      <td>1.000000e+00</td>\n",
       "      <td>0.000000e+00</td>\n",
       "      <td>1.0</td>\n",
       "    </tr>\n",
       "    <tr>\n",
       "      <th>25%</th>\n",
       "      <td>1.803920e+05</td>\n",
       "      <td>1.0</td>\n",
       "      <td>30.0</td>\n",
       "      <td>32.0</td>\n",
       "      <td>1.000000e-03</td>\n",
       "      <td>50.0</td>\n",
       "      <td>3.000000e-01</td>\n",
       "      <td>0.0</td>\n",
       "      <td>900.0</td>\n",
       "      <td>5.0</td>\n",
       "      <td>2.0</td>\n",
       "      <td>2.741500e+04</td>\n",
       "      <td>3.857000e+03</td>\n",
       "      <td>1.0</td>\n",
       "    </tr>\n",
       "    <tr>\n",
       "      <th>50%</th>\n",
       "      <td>3.611360e+05</td>\n",
       "      <td>1.0</td>\n",
       "      <td>30.0</td>\n",
       "      <td>32.0</td>\n",
       "      <td>1.000000e-03</td>\n",
       "      <td>50.0</td>\n",
       "      <td>3.000000e-01</td>\n",
       "      <td>0.0</td>\n",
       "      <td>900.0</td>\n",
       "      <td>5.0</td>\n",
       "      <td>3.0</td>\n",
       "      <td>6.494600e+04</td>\n",
       "      <td>6.359700e+04</td>\n",
       "      <td>2.0</td>\n",
       "    </tr>\n",
       "    <tr>\n",
       "      <th>75%</th>\n",
       "      <td>5.445760e+05</td>\n",
       "      <td>1.0</td>\n",
       "      <td>30.0</td>\n",
       "      <td>32.0</td>\n",
       "      <td>1.000000e-03</td>\n",
       "      <td>50.0</td>\n",
       "      <td>3.000000e-01</td>\n",
       "      <td>0.0</td>\n",
       "      <td>900.0</td>\n",
       "      <td>5.0</td>\n",
       "      <td>4.0</td>\n",
       "      <td>6.687300e+04</td>\n",
       "      <td>6.627800e+04</td>\n",
       "      <td>3.0</td>\n",
       "    </tr>\n",
       "    <tr>\n",
       "      <th>max</th>\n",
       "      <td>7.293320e+05</td>\n",
       "      <td>1.0</td>\n",
       "      <td>30.0</td>\n",
       "      <td>32.0</td>\n",
       "      <td>1.000000e-03</td>\n",
       "      <td>50.0</td>\n",
       "      <td>3.000000e-01</td>\n",
       "      <td>0.0</td>\n",
       "      <td>900.0</td>\n",
       "      <td>5.0</td>\n",
       "      <td>4.0</td>\n",
       "      <td>9.091000e+04</td>\n",
       "      <td>6.845867e+22</td>\n",
       "      <td>4.0</td>\n",
       "    </tr>\n",
       "  </tbody>\n",
       "</table>\n",
       "</div>"
      ],
      "text/plain": [
       "       in_lock_sequences_id  train_data_percent_used      epochs  batch_size  \\\n",
       "count          8.005883e+07               80058830.0  80058830.0  80058830.0   \n",
       "mean           3.622722e+05                      1.0        30.0        32.0   \n",
       "std            2.104680e+05                      0.0         0.0         0.0   \n",
       "min            1.000000e+00                      1.0        30.0        32.0   \n",
       "25%            1.803920e+05                      1.0        30.0        32.0   \n",
       "50%            3.611360e+05                      1.0        30.0        32.0   \n",
       "75%            5.445760e+05                      1.0        30.0        32.0   \n",
       "max            7.293320e+05                      1.0        30.0        32.0   \n",
       "\n",
       "       learning_rate  seq_length    test_split   val_split  vocab_size  \\\n",
       "count   8.005883e+07  80058830.0  8.005883e+07  80058830.0  80058830.0   \n",
       "mean    1.000000e-03        50.0  3.000000e-01         0.0       900.0   \n",
       "std     2.385245e-18         0.0  3.241851e-14         0.0         0.0   \n",
       "min     1.000000e-03        50.0  3.000000e-01         0.0       900.0   \n",
       "25%     1.000000e-03        50.0  3.000000e-01         0.0       900.0   \n",
       "50%     1.000000e-03        50.0  3.000000e-01         0.0       900.0   \n",
       "75%     1.000000e-03        50.0  3.000000e-01         0.0       900.0   \n",
       "max     1.000000e-03        50.0  3.000000e-01         0.0       900.0   \n",
       "\n",
       "         patience     horizon     gt_pageid   pred_pageid  horizon_position  \n",
       "count  80058830.0  80058830.0  8.005883e+07  8.004642e+07        80058830.0  \n",
       "mean          5.0         3.0  4.946564e+04  1.725425e+15               2.0  \n",
       "std           0.0         1.0  2.659063e+04  1.036102e+19               1.0  \n",
       "min           5.0         1.0  1.000000e+00  0.000000e+00               1.0  \n",
       "25%           5.0         2.0  2.741500e+04  3.857000e+03               1.0  \n",
       "50%           5.0         3.0  6.494600e+04  6.359700e+04               2.0  \n",
       "75%           5.0         4.0  6.687300e+04  6.627800e+04               3.0  \n",
       "max           5.0         4.0  9.091000e+04  6.845867e+22               4.0  "
      ]
     },
     "execution_count": 49,
     "metadata": {},
     "output_type": "execute_result"
    }
   ],
   "source": [
    "predictions.describe()"
   ]
  },
  {
   "cell_type": "markdown",
   "metadata": {},
   "source": [
    "### Lets see how many groups of predicitons exist\n",
    "There should be 40, which is 10 repitions by 4 horizons"
   ]
  },
  {
   "cell_type": "code",
   "execution_count": 52,
   "metadata": {},
   "outputs": [],
   "source": [
    "unique_groups = predictions.drop(columns=['gt_pageid', 'pred_pageid', 'horizon_position', 'in_lock_sequences_id', 'gt_table', 'pred_table', 'horizon', 'unique_id']).drop_duplicates()"
   ]
  },
  {
   "cell_type": "code",
   "execution_count": 53,
   "metadata": {},
   "outputs": [
    {
     "data": {
      "text/plain": [
       "model                       1\n",
       "data                        1\n",
       "train_data_percent_used     1\n",
       "epochs                      1\n",
       "batch_size                  1\n",
       "learning_rate               1\n",
       "seq_length                  1\n",
       "test_split                  1\n",
       "val_split                   1\n",
       "vocab_size                  1\n",
       "tokenization                1\n",
       "patience                    1\n",
       "results_dir                 1\n",
       "experiment_name             1\n",
       "shuffle                     1\n",
       "add_start_end_tokens        1\n",
       "add_row_id                  1\n",
       "add_label_tokens            1\n",
       "disable_train_shuffle       1\n",
       "early_stopping              1\n",
       "remove_system_tables        1\n",
       "token_length_seq            1\n",
       "lstm_pe                     1\n",
       "naive_baseline              1\n",
       "disable_cache               1\n",
       "model_weights              40\n",
       "is_correct                  2\n",
       "dtype: int64"
      ]
     },
     "execution_count": 53,
     "metadata": {},
     "output_type": "execute_result"
    }
   ],
   "source": [
    "unique_groups.nunique()"
   ]
  },
  {
   "cell_type": "markdown",
   "metadata": {},
   "source": [
    "### Lets now check the number of rows for increasing number of horizons\n",
    "This should be equal to a multiple of the number of rows when `horizon==1` (since each horzion positions is its own row)"
   ]
  },
  {
   "cell_type": "code",
   "execution_count": 54,
   "metadata": {},
   "outputs": [
    {
     "data": {
      "text/plain": [
       "8005890"
      ]
     },
     "execution_count": 54,
     "metadata": {},
     "output_type": "execute_result"
    }
   ],
   "source": [
    "num_of_pred = predictions[predictions['horizon'] == 1].shape[0]\n",
    "num_of_pred"
   ]
  },
  {
   "cell_type": "code",
   "execution_count": 55,
   "metadata": {},
   "outputs": [
    {
     "ename": "AssertionError",
     "evalue": "('Number of predictions for horizon 4 is not correct.', 'Expected: 32023560', 'Actual: 32023520', 'Difference: 40')",
     "output_type": "error",
     "traceback": [
      "\u001b[0;31m---------------------------------------------------------------------------\u001b[0m",
      "\u001b[0;31mAssertionError\u001b[0m                            Traceback (most recent call last)",
      "Cell \u001b[0;32mIn[55], line 2\u001b[0m\n\u001b[1;32m      1\u001b[0m \u001b[38;5;28;01mfor\u001b[39;00m horizon \u001b[38;5;129;01min\u001b[39;00m predictions[\u001b[38;5;124m'\u001b[39m\u001b[38;5;124mhorizon\u001b[39m\u001b[38;5;124m'\u001b[39m]\u001b[38;5;241m.\u001b[39munique():\n\u001b[0;32m----> 2\u001b[0m     \u001b[38;5;28;01massert\u001b[39;00m num_of_pred \u001b[38;5;241m*\u001b[39m horizon \u001b[38;5;241m==\u001b[39m predictions[predictions[\u001b[38;5;124m'\u001b[39m\u001b[38;5;124mhorizon\u001b[39m\u001b[38;5;124m'\u001b[39m] \u001b[38;5;241m==\u001b[39m horizon]\u001b[38;5;241m.\u001b[39mshape[\u001b[38;5;241m0\u001b[39m], (\n\u001b[1;32m      3\u001b[0m         \u001b[38;5;124mf\u001b[39m\u001b[38;5;124m\"\u001b[39m\u001b[38;5;124mNumber of predictions for horizon \u001b[39m\u001b[38;5;132;01m{\u001b[39;00mhorizon\u001b[38;5;132;01m}\u001b[39;00m\u001b[38;5;124m is not correct.\u001b[39m\u001b[38;5;124m\"\u001b[39m,\n\u001b[1;32m      4\u001b[0m         \u001b[38;5;124mf\u001b[39m\u001b[38;5;124m\"\u001b[39m\u001b[38;5;124mExpected: \u001b[39m\u001b[38;5;132;01m{\u001b[39;00mnum_of_pred\u001b[38;5;250m \u001b[39m\u001b[38;5;241m*\u001b[39m\u001b[38;5;250m \u001b[39mhorizon\u001b[38;5;132;01m}\u001b[39;00m\u001b[38;5;124m\"\u001b[39m,\n\u001b[1;32m      5\u001b[0m         \u001b[38;5;124mf\u001b[39m\u001b[38;5;124m\"\u001b[39m\u001b[38;5;124mActual: \u001b[39m\u001b[38;5;132;01m{\u001b[39;00mpredictions[predictions[\u001b[38;5;124m'\u001b[39m\u001b[38;5;124mhorizon\u001b[39m\u001b[38;5;124m'\u001b[39m]\u001b[38;5;250m \u001b[39m\u001b[38;5;241m==\u001b[39m\u001b[38;5;250m \u001b[39mhorizon]\u001b[38;5;241m.\u001b[39mshape[\u001b[38;5;241m0\u001b[39m]\u001b[38;5;132;01m}\u001b[39;00m\u001b[38;5;124m\"\u001b[39m,\n\u001b[1;32m      6\u001b[0m         \u001b[38;5;124mf\u001b[39m\u001b[38;5;124m\"\u001b[39m\u001b[38;5;124mDifference: \u001b[39m\u001b[38;5;132;01m{\u001b[39;00mnum_of_pred\u001b[38;5;250m \u001b[39m\u001b[38;5;241m*\u001b[39m\u001b[38;5;250m \u001b[39mhorizon\u001b[38;5;250m \u001b[39m\u001b[38;5;241m-\u001b[39m\u001b[38;5;250m \u001b[39mpredictions[predictions[\u001b[38;5;124m'\u001b[39m\u001b[38;5;124mhorizon\u001b[39m\u001b[38;5;124m'\u001b[39m]\u001b[38;5;250m \u001b[39m\u001b[38;5;241m==\u001b[39m\u001b[38;5;250m \u001b[39mhorizon]\u001b[38;5;241m.\u001b[39mshape[\u001b[38;5;241m0\u001b[39m]\u001b[38;5;132;01m}\u001b[39;00m\u001b[38;5;124m\"\u001b[39m\n\u001b[1;32m      7\u001b[0m     )\n",
      "\u001b[0;31mAssertionError\u001b[0m: ('Number of predictions for horizon 4 is not correct.', 'Expected: 32023560', 'Actual: 32023520', 'Difference: 40')"
     ]
    }
   ],
   "source": [
    "for horizon in predictions['horizon'].unique():\n",
    "    assert num_of_pred * horizon == predictions[predictions['horizon'] == horizon].shape[0], (\n",
    "        f\"Number of predictions for horizon {horizon} is not correct.\",\n",
    "        f\"Expected: {num_of_pred * horizon}\",\n",
    "        f\"Actual: {predictions[predictions['horizon'] == horizon].shape[0]}\",\n",
    "        f\"Difference: {num_of_pred * horizon - predictions[predictions['horizon'] == horizon].shape[0]}\"\n",
    "    )"
   ]
  },
  {
   "cell_type": "markdown",
   "metadata": {},
   "source": [
    "While I expected this assertion to hold, there may be a side-effect of sequence creation which larger horizons that I am not accounting for.\n",
    "\n",
    "For example, depending if there is any overlap between sequence, it may account for there being less than exactly `num_of_pred * horizon`."
   ]
  },
  {
   "cell_type": "code",
   "execution_count": 56,
   "metadata": {},
   "outputs": [
    {
     "data": {
      "text/plain": [
       "model_weights\n",
       "results/fixed/exp-6-row-locks/char__transformer_20250115_155211_4a9914df-44e7-4709-b93f-2899a05761e4/model.keras    3202352\n",
       "results/fixed/exp-6-row-locks/char__transformer_20250115_164639_11d92135-a44b-4015-9a03-3e37c93283f8/model.keras    3202352\n",
       "results/fixed/exp-6-row-locks/char__transformer_20250115_173807_5849bb81-9b78-440c-a791-a0da558ef007/model.keras    3202352\n",
       "results/fixed/exp-6-row-locks/char__transformer_20250115_183129_be0f75cf-94dc-4ed3-b3af-5843eac87069/model.keras    3202352\n",
       "results/fixed/exp-6-row-locks/char__transformer_20250115_192614_f92ff2c9-4f61-464c-a2ce-8872fa2d0fdb/model.keras    3202352\n",
       "results/fixed/exp-6-row-locks/char__transformer_20250115_202048_efb07517-a3b6-42d6-87ca-ede888c20210/model.keras    3202352\n",
       "results/fixed/exp-6-row-locks/char__transformer_20250115_211559_dc0328e3-f880-49f2-a274-42326e1c06d5/model.keras    3202352\n",
       "results/fixed/exp-6-row-locks/char__transformer_20250115_220832_37086c9c-1b81-463f-b306-6beb9cac68fd/model.keras    3202352\n",
       "results/fixed/exp-6-row-locks/char__transformer_20250115_230215_682ead62-0f1f-45bb-becd-7f8b8be51528/model.keras    3202352\n",
       "results/fixed/exp-6-row-locks/char__transformer_20250115_235501_0936125e-d6cd-4e4c-9fcc-e5480483aa89/model.keras    3202352\n",
       "Name: model_weights, dtype: int64"
      ]
     },
     "execution_count": 56,
     "metadata": {},
     "output_type": "execute_result"
    }
   ],
   "source": [
    "horizon_4_unqiue = predictions[predictions['horizon'] == 4]['model_weights'].groupby(predictions['model_weights'])\n",
    "horizon_4_unqiue.count()"
   ]
  },
  {
   "cell_type": "code",
   "execution_count": 57,
   "metadata": {},
   "outputs": [
    {
     "data": {
      "text/plain": [
       "True"
      ]
     },
     "execution_count": 57,
     "metadata": {},
     "output_type": "execute_result"
    }
   ],
   "source": [
    "horizon_4_unqiue.count().sum() == 32023520"
   ]
  },
  {
   "cell_type": "markdown",
   "metadata": {},
   "source": [
    "Above looks at how many rows there are for each repition of `horizon==4`. They are all the same, so this means we have 4 less rows for each of the 10 reps.\n",
    "\n",
    "This equates to only 1 less test example (since we split by horizon position, thus 4 less rows means 1 less lock prediciton at `horizon==4`)"
   ]
  },
  {
   "cell_type": "markdown",
   "metadata": {},
   "source": [
    "### Lets look at the distribution of pageid values"
   ]
  },
  {
   "cell_type": "code",
   "execution_count": 58,
   "metadata": {},
   "outputs": [
    {
     "data": {
      "text/plain": [
       "(0.0, 6.845866623866862e+22, 1725424805245443.2, 1.0361023799303481e+19)"
      ]
     },
     "execution_count": 58,
     "metadata": {},
     "output_type": "execute_result"
    }
   ],
   "source": [
    "predictions['pred_pageid'].min(), predictions['pred_pageid'].max(), predictions['pred_pageid'].mean(), predictions['pred_pageid'].std()"
   ]
  },
  {
   "cell_type": "markdown",
   "metadata": {},
   "source": [
    "Thats a very wide range of predicted page_ids. Lets checkout the histogram."
   ]
  },
  {
   "cell_type": "code",
   "execution_count": 59,
   "metadata": {},
   "outputs": [
    {
     "data": {
      "image/png": "[encoded data removed]",
      "text/plain": [
       "<Figure size 640x480 with 1 Axes>"
      ]
     },
     "metadata": {},
     "output_type": "display_data"
    },
    {
     "data": {
      "text/plain": [
       "(8858, (80058830, 35))"
      ]
     },
     "execution_count": 59,
     "metadata": {},
     "output_type": "execute_result"
    }
   ],
   "source": [
    "max_log10 = np.log10(predictions['pred_pageid'].max())\n",
    "plt.hist(predictions['pred_pageid'], bins=np.logspace(0, max_log10, 20))\n",
    "plt.xscale('log')\n",
    "plt.title('Histogram of predicted pageids')\n",
    "plt.show()\n",
    "\n",
    "(predictions['pred_pageid'] > 10e4).sum(), predictions.shape"
   ]
  },
  {
   "cell_type": "code",
   "execution_count": 60,
   "metadata": {},
   "outputs": [
    {
     "data": {
      "image/png": "[encoded data removed]",
      "text/plain": [
       "<Figure size 640x480 with 1 Axes>"
      ]
     },
     "metadata": {},
     "output_type": "display_data"
    },
    {
     "data": {
      "text/plain": [
       "(0, (80058830, 35))"
      ]
     },
     "execution_count": 60,
     "metadata": {},
     "output_type": "execute_result"
    }
   ],
   "source": [
    "max_log10 = np.log10(predictions['gt_pageid'].max())\n",
    "plt.hist(predictions['gt_pageid'], bins=np.logspace(0, max_log10, 20))\n",
    "plt.xscale('log')\n",
    "plt.title('Ground Truth Page ID')\n",
    "plt.show()\n",
    "\n",
    "(predictions['gt_pageid'] > 10e4).sum(), predictions.shape\n"
   ]
  },
  {
   "cell_type": "markdown",
   "metadata": {},
   "source": [
    "Okay everything, looks normal. We just have a few outliers in the prediction, but the ground truth looks good."
   ]
  },
  {
   "cell_type": "markdown",
   "metadata": {},
   "source": [
    "## Global vs. Local Analysis"
   ]
  },
  {
   "cell_type": "code",
   "execution_count": 18,
   "metadata": {},
   "outputs": [],
   "source": [
    "grouped_preds = predictions[predictions['horizon']==3].groupby(['unique_id'])"
   ]
  },
  {
   "cell_type": "code",
   "execution_count": 19,
   "metadata": {},
   "outputs": [],
   "source": [
    "correct = grouped_preds[\"is_correct\"].all()"
   ]
  },
  {
   "cell_type": "code",
   "execution_count": 23,
   "metadata": {},
   "outputs": [
    {
     "data": {
      "text/plain": [
       "unique_id\n",
       "000002e7-b57b-4535-9271-0f5145b42878    False\n",
       "000003ae-ccc4-4f01-9c09-a3e9e766c0c6    False\n",
       "00000c0c-ebf3-408f-ab05-69332eccca93    False\n",
       "00000d37-8ea5-4987-8b74-6ff92b9b8466    False\n",
       "00000d7b-4665-4bd6-8057-8684b97e4d90     True\n",
       "                                        ...  \n",
       "fffffde2-0b3b-4f88-b120-5e9190c10f49     True\n",
       "fffffe0e-7e10-43ea-8877-fa8fa72bbf93    False\n",
       "fffffe52-800c-4291-a324-d7435dd3f8ae    False\n",
       "fffffe5d-783c-45cb-93ea-8e05a853cf8a    False\n",
       "ffffffec-b2f8-4429-926c-d7a94a4c6263     True\n",
       "Name: is_correct, Length: 8005880, dtype: bool"
      ]
     },
     "execution_count": 23,
     "metadata": {},
     "output_type": "execute_result"
    }
   ],
   "source": [
    "correct"
   ]
  },
  {
   "cell_type": "code",
   "execution_count": 24,
   "metadata": {},
   "outputs": [
    {
     "data": {
      "text/plain": [
       "0.14303649317751452"
      ]
     },
     "execution_count": 24,
     "metadata": {},
     "output_type": "execute_result"
    }
   ],
   "source": [
    "correct.sum() / correct.shape[0]"
   ]
  },
  {
   "cell_type": "code",
   "execution_count": 38,
   "metadata": {},
   "outputs": [],
   "source": [
    "def calc_corret_by_table(preds):\n",
    "    stats = []\n",
    "\n",
    "    for horizon in preds['horizon'].unique():\n",
    "        horizon_preds = preds[(preds['horizon'] == horizon)]\n",
    "        table_names = horizon_preds['gt_table'].unique()\n",
    "\n",
    "        for table in table_names:\n",
    "            table_preds = horizon_preds[horizon_preds['gt_table'] == table].groupby(['unique_id'])\n",
    "            correct = table_preds[\"is_correct\"].all()\n",
    "            percent_correct = correct.sum() / correct.shape[0] if correct.shape[0] > 0 else 0\n",
    "            stats.append({\n",
    "                'table': table,\n",
    "                'horizon': horizon,\n",
    "                'num_correct': correct.sum(),\n",
    "                'num_total': correct.shape[0],\n",
    "                'percent_correct': percent_correct\n",
    "        })\n",
    "    return pd.DataFrame(stats)"
   ]
  },
  {
   "cell_type": "code",
   "execution_count": 36,
   "metadata": {},
   "outputs": [],
   "source": [
    "stats_df = calc_corret_by_table(predictions)"
   ]
  },
  {
   "cell_type": "code",
   "execution_count": 37,
   "metadata": {},
   "outputs": [
    {
     "data": {
      "text/html": [
       "<div>\n",
       "<style scoped>\n",
       "    .dataframe tbody tr th:only-of-type {\n",
       "        vertical-align: middle;\n",
       "    }\n",
       "\n",
       "    .dataframe tbody tr th {\n",
       "        vertical-align: top;\n",
       "    }\n",
       "\n",
       "    .dataframe thead th {\n",
       "        text-align: right;\n",
       "    }\n",
       "</style>\n",
       "<table border=\"1\" class=\"dataframe\">\n",
       "  <thead>\n",
       "    <tr style=\"text-align: right;\">\n",
       "      <th></th>\n",
       "      <th>table</th>\n",
       "      <th>horizon</th>\n",
       "      <th>num_correct</th>\n",
       "      <th>num_total</th>\n",
       "      <th>percent_correct</th>\n",
       "    </tr>\n",
       "  </thead>\n",
       "  <tbody>\n",
       "    <tr>\n",
       "      <th>0</th>\n",
       "      <td>orderline</td>\n",
       "      <td>1</td>\n",
       "      <td>3633578</td>\n",
       "      <td>4377420</td>\n",
       "      <td>0.830073</td>\n",
       "    </tr>\n",
       "    <tr>\n",
       "      <th>5</th>\n",
       "      <td>district</td>\n",
       "      <td>1</td>\n",
       "      <td>37482</td>\n",
       "      <td>122960</td>\n",
       "      <td>0.304831</td>\n",
       "    </tr>\n",
       "    <tr>\n",
       "      <th>7</th>\n",
       "      <td>warehouse</td>\n",
       "      <td>1</td>\n",
       "      <td>17129</td>\n",
       "      <td>61420</td>\n",
       "      <td>0.278883</td>\n",
       "    </tr>\n",
       "    <tr>\n",
       "      <th>6</th>\n",
       "      <td>history</td>\n",
       "      <td>1</td>\n",
       "      <td>2318</td>\n",
       "      <td>167120</td>\n",
       "      <td>0.013870</td>\n",
       "    </tr>\n",
       "    <tr>\n",
       "      <th>3</th>\n",
       "      <td>neworder</td>\n",
       "      <td>1</td>\n",
       "      <td>968</td>\n",
       "      <td>279700</td>\n",
       "      <td>0.003461</td>\n",
       "    </tr>\n",
       "    <tr>\n",
       "      <th>2</th>\n",
       "      <td>orders</td>\n",
       "      <td>1</td>\n",
       "      <td>213</td>\n",
       "      <td>349140</td>\n",
       "      <td>0.000610</td>\n",
       "    </tr>\n",
       "    <tr>\n",
       "      <th>4</th>\n",
       "      <td>customer</td>\n",
       "      <td>1</td>\n",
       "      <td>65</td>\n",
       "      <td>419910</td>\n",
       "      <td>0.000155</td>\n",
       "    </tr>\n",
       "    <tr>\n",
       "      <th>1</th>\n",
       "      <td>stock</td>\n",
       "      <td>1</td>\n",
       "      <td>39</td>\n",
       "      <td>2228220</td>\n",
       "      <td>0.000018</td>\n",
       "    </tr>\n",
       "  </tbody>\n",
       "</table>\n",
       "</div>"
      ],
      "text/plain": [
       "       table  horizon  num_correct  num_total  percent_correct\n",
       "0  orderline        1      3633578    4377420         0.830073\n",
       "5   district        1        37482     122960         0.304831\n",
       "7  warehouse        1        17129      61420         0.278883\n",
       "6    history        1         2318     167120         0.013870\n",
       "3   neworder        1          968     279700         0.003461\n",
       "2     orders        1          213     349140         0.000610\n",
       "4   customer        1           65     419910         0.000155\n",
       "1      stock        1           39    2228220         0.000018"
      ]
     },
     "execution_count": 37,
     "metadata": {},
     "output_type": "execute_result"
    }
   ],
   "source": [
    "stats_df[stats_df['horizon'] == 1].sort_values('percent_correct', ascending=False)"
   ]
  },
  {
   "cell_type": "code",
   "execution_count": 61,
   "metadata": {},
   "outputs": [],
   "source": [
    "per_table_accuracies = stats_df.pivot(index='table', columns='horizon', values='percent_correct').sort_values(by='table')\n",
    "per_table_accuracies\n",
    "stats_df.to_csv('outputs/global_model_per_table_accuracy_by_horizon.csv', index=False)"
   ]
  },
  {
   "cell_type": "code",
   "execution_count": 68,
   "metadata": {},
   "outputs": [
    {
     "data": {
      "image/png": "[encoded data removed]",
      "text/plain": [
       "<Figure size 1000x500 with 1 Axes>"
      ]
     },
     "metadata": {},
     "output_type": "display_data"
    }
   ],
   "source": [
    "per_table_accuracies.sort_values(by='table').plot(kind='bar', figsize=(10,5), title='Global Model: Per Table Accuracy by Horizon')\n",
    "plt.xlabel('Table')\n",
    "plt.ylabel('Accuracy')\n",
    "plt.xticks(rotation=45)\n",
    "plt.legend(title='Horizon')\n",
    "plt.savefig('outputs/global_model_per_table_accuracy_by_horizon.png', bbox_inches='tight')"
   ]
  },
  {
   "cell_type": "markdown",
   "metadata": {},
   "source": [
    "### Now lets see the Local models\n",
    "I.e., the models trained on each dataset table seperately"
   ]
  },
  {
   "cell_type": "code",
   "execution_count": 41,
   "metadata": {},
   "outputs": [],
   "source": [
    "predictions_row_sep = pd.read_parquet('data/row_sep/exp-11-row-locks/predictions.parquet')\n",
    "predictions_row_sep['is_correct'] = (predictions_row_sep['gt_table'] == predictions_row_sep['pred_table']) & (predictions_row_sep['gt_pageid'] == predictions_row_sep['pred_pageid'])"
   ]
  },
  {
   "cell_type": "code",
   "execution_count": 42,
   "metadata": {},
   "outputs": [
    {
     "data": {
      "text/html": [
       "<div>\n",
       "<style scoped>\n",
       "    .dataframe tbody tr th:only-of-type {\n",
       "        vertical-align: middle;\n",
       "    }\n",
       "\n",
       "    .dataframe tbody tr th {\n",
       "        vertical-align: top;\n",
       "    }\n",
       "\n",
       "    .dataframe thead th {\n",
       "        text-align: right;\n",
       "    }\n",
       "</style>\n",
       "<table border=\"1\" class=\"dataframe\">\n",
       "  <thead>\n",
       "    <tr style=\"text-align: right;\">\n",
       "      <th></th>\n",
       "      <th>in_lock_sequences_id</th>\n",
       "      <th>model</th>\n",
       "      <th>data</th>\n",
       "      <th>train_data_percent_used</th>\n",
       "      <th>epochs</th>\n",
       "      <th>batch_size</th>\n",
       "      <th>learning_rate</th>\n",
       "      <th>seq_length</th>\n",
       "      <th>test_split</th>\n",
       "      <th>val_split</th>\n",
       "      <th>...</th>\n",
       "      <th>naive_baseline</th>\n",
       "      <th>disable_cache</th>\n",
       "      <th>args_file</th>\n",
       "      <th>unique_id</th>\n",
       "      <th>horizon_position</th>\n",
       "      <th>gt_table</th>\n",
       "      <th>gt_pageid</th>\n",
       "      <th>pred_table</th>\n",
       "      <th>pred_pageid</th>\n",
       "      <th>is_correct</th>\n",
       "    </tr>\n",
       "  </thead>\n",
       "  <tbody>\n",
       "    <tr>\n",
       "      <th>0</th>\n",
       "      <td>1</td>\n",
       "      <td>transformer</td>\n",
       "      <td>data/fixed/row_sep/WAREHOUSE.csv</td>\n",
       "      <td>1.0</td>\n",
       "      <td>30</td>\n",
       "      <td>32</td>\n",
       "      <td>0.001</td>\n",
       "      <td>50</td>\n",
       "      <td>0.3</td>\n",
       "      <td>0.0</td>\n",
       "      <td>...</td>\n",
       "      <td>False</td>\n",
       "      <td>False</td>\n",
       "      <td>None</td>\n",
       "      <td>38ad0a77-84d3-4297-8078-b1039f00a7a0</td>\n",
       "      <td>1</td>\n",
       "      <td>warehouse</td>\n",
       "      <td>4</td>\n",
       "      <td>warehouse</td>\n",
       "      <td>4.0</td>\n",
       "      <td>True</td>\n",
       "    </tr>\n",
       "    <tr>\n",
       "      <th>1</th>\n",
       "      <td>1</td>\n",
       "      <td>transformer</td>\n",
       "      <td>data/fixed/row_sep/WAREHOUSE.csv</td>\n",
       "      <td>1.0</td>\n",
       "      <td>30</td>\n",
       "      <td>32</td>\n",
       "      <td>0.001</td>\n",
       "      <td>50</td>\n",
       "      <td>0.3</td>\n",
       "      <td>0.0</td>\n",
       "      <td>...</td>\n",
       "      <td>False</td>\n",
       "      <td>False</td>\n",
       "      <td>None</td>\n",
       "      <td>38ad0a77-84d3-4297-8078-b1039f00a7a0</td>\n",
       "      <td>2</td>\n",
       "      <td>warehouse</td>\n",
       "      <td>4</td>\n",
       "      <td>warehouse</td>\n",
       "      <td>4.0</td>\n",
       "      <td>True</td>\n",
       "    </tr>\n",
       "    <tr>\n",
       "      <th>2</th>\n",
       "      <td>1</td>\n",
       "      <td>transformer</td>\n",
       "      <td>data/fixed/row_sep/WAREHOUSE.csv</td>\n",
       "      <td>1.0</td>\n",
       "      <td>30</td>\n",
       "      <td>32</td>\n",
       "      <td>0.001</td>\n",
       "      <td>50</td>\n",
       "      <td>0.3</td>\n",
       "      <td>0.0</td>\n",
       "      <td>...</td>\n",
       "      <td>False</td>\n",
       "      <td>False</td>\n",
       "      <td>None</td>\n",
       "      <td>38ad0a77-84d3-4297-8078-b1039f00a7a0</td>\n",
       "      <td>3</td>\n",
       "      <td>warehouse</td>\n",
       "      <td>4</td>\n",
       "      <td>warehouse</td>\n",
       "      <td>4.0</td>\n",
       "      <td>True</td>\n",
       "    </tr>\n",
       "    <tr>\n",
       "      <th>3</th>\n",
       "      <td>1</td>\n",
       "      <td>transformer</td>\n",
       "      <td>data/fixed/row_sep/WAREHOUSE.csv</td>\n",
       "      <td>1.0</td>\n",
       "      <td>30</td>\n",
       "      <td>32</td>\n",
       "      <td>0.001</td>\n",
       "      <td>50</td>\n",
       "      <td>0.3</td>\n",
       "      <td>0.0</td>\n",
       "      <td>...</td>\n",
       "      <td>False</td>\n",
       "      <td>False</td>\n",
       "      <td>None</td>\n",
       "      <td>38ad0a77-84d3-4297-8078-b1039f00a7a0</td>\n",
       "      <td>4</td>\n",
       "      <td>warehouse</td>\n",
       "      <td>4</td>\n",
       "      <td>warehouse</td>\n",
       "      <td>4.0</td>\n",
       "      <td>True</td>\n",
       "    </tr>\n",
       "    <tr>\n",
       "      <th>4</th>\n",
       "      <td>1</td>\n",
       "      <td>transformer</td>\n",
       "      <td>data/fixed/row_sep/WAREHOUSE.csv</td>\n",
       "      <td>1.0</td>\n",
       "      <td>30</td>\n",
       "      <td>32</td>\n",
       "      <td>0.001</td>\n",
       "      <td>50</td>\n",
       "      <td>0.3</td>\n",
       "      <td>0.0</td>\n",
       "      <td>...</td>\n",
       "      <td>False</td>\n",
       "      <td>False</td>\n",
       "      <td>None</td>\n",
       "      <td>b000c5ec-6063-41ec-b479-fee0a7bbf7fb</td>\n",
       "      <td>1</td>\n",
       "      <td>warehouse</td>\n",
       "      <td>4</td>\n",
       "      <td>warehouse</td>\n",
       "      <td>4.0</td>\n",
       "      <td>True</td>\n",
       "    </tr>\n",
       "  </tbody>\n",
       "</table>\n",
       "<p>5 rows × 36 columns</p>\n",
       "</div>"
      ],
      "text/plain": [
       "   in_lock_sequences_id        model                              data  \\\n",
       "0                     1  transformer  data/fixed/row_sep/WAREHOUSE.csv   \n",
       "1                     1  transformer  data/fixed/row_sep/WAREHOUSE.csv   \n",
       "2                     1  transformer  data/fixed/row_sep/WAREHOUSE.csv   \n",
       "3                     1  transformer  data/fixed/row_sep/WAREHOUSE.csv   \n",
       "4                     1  transformer  data/fixed/row_sep/WAREHOUSE.csv   \n",
       "\n",
       "   train_data_percent_used  epochs  batch_size  learning_rate  seq_length  \\\n",
       "0                      1.0      30          32          0.001          50   \n",
       "1                      1.0      30          32          0.001          50   \n",
       "2                      1.0      30          32          0.001          50   \n",
       "3                      1.0      30          32          0.001          50   \n",
       "4                      1.0      30          32          0.001          50   \n",
       "\n",
       "   test_split  val_split  ...  naive_baseline disable_cache  args_file  \\\n",
       "0         0.3        0.0  ...           False         False       None   \n",
       "1         0.3        0.0  ...           False         False       None   \n",
       "2         0.3        0.0  ...           False         False       None   \n",
       "3         0.3        0.0  ...           False         False       None   \n",
       "4         0.3        0.0  ...           False         False       None   \n",
       "\n",
       "                              unique_id horizon_position   gt_table gt_pageid  \\\n",
       "0  38ad0a77-84d3-4297-8078-b1039f00a7a0                1  warehouse         4   \n",
       "1  38ad0a77-84d3-4297-8078-b1039f00a7a0                2  warehouse         4   \n",
       "2  38ad0a77-84d3-4297-8078-b1039f00a7a0                3  warehouse         4   \n",
       "3  38ad0a77-84d3-4297-8078-b1039f00a7a0                4  warehouse         4   \n",
       "4  b000c5ec-6063-41ec-b479-fee0a7bbf7fb                1  warehouse         4   \n",
       "\n",
       "   pred_table  pred_pageid  is_correct  \n",
       "0   warehouse          4.0        True  \n",
       "1   warehouse          4.0        True  \n",
       "2   warehouse          4.0        True  \n",
       "3   warehouse          4.0        True  \n",
       "4   warehouse          4.0        True  \n",
       "\n",
       "[5 rows x 36 columns]"
      ]
     },
     "execution_count": 42,
     "metadata": {},
     "output_type": "execute_result"
    }
   ],
   "source": [
    "predictions_row_sep.head()"
   ]
  },
  {
   "cell_type": "code",
   "execution_count": 43,
   "metadata": {},
   "outputs": [],
   "source": [
    "stats_local_df = calc_corret_by_table(predictions_row_sep)"
   ]
  },
  {
   "cell_type": "code",
   "execution_count": 63,
   "metadata": {},
   "outputs": [
    {
     "data": {
      "text/html": [
       "<div>\n",
       "<style scoped>\n",
       "    .dataframe tbody tr th:only-of-type {\n",
       "        vertical-align: middle;\n",
       "    }\n",
       "\n",
       "    .dataframe tbody tr th {\n",
       "        vertical-align: top;\n",
       "    }\n",
       "\n",
       "    .dataframe thead th {\n",
       "        text-align: right;\n",
       "    }\n",
       "</style>\n",
       "<table border=\"1\" class=\"dataframe\">\n",
       "  <thead>\n",
       "    <tr style=\"text-align: right;\">\n",
       "      <th></th>\n",
       "      <th>table</th>\n",
       "      <th>horizon</th>\n",
       "      <th>num_correct</th>\n",
       "      <th>num_total</th>\n",
       "      <th>percent_correct</th>\n",
       "    </tr>\n",
       "  </thead>\n",
       "  <tbody>\n",
       "    <tr>\n",
       "      <th>20</th>\n",
       "      <td>warehouse</td>\n",
       "      <td>1</td>\n",
       "      <td>195800</td>\n",
       "      <td>195800</td>\n",
       "      <td>1.000000</td>\n",
       "    </tr>\n",
       "    <tr>\n",
       "      <th>21</th>\n",
       "      <td>history</td>\n",
       "      <td>1</td>\n",
       "      <td>192269</td>\n",
       "      <td>195840</td>\n",
       "      <td>0.981766</td>\n",
       "    </tr>\n",
       "    <tr>\n",
       "      <th>22</th>\n",
       "      <td>orderline</td>\n",
       "      <td>1</td>\n",
       "      <td>3727266</td>\n",
       "      <td>4072510</td>\n",
       "      <td>0.915226</td>\n",
       "    </tr>\n",
       "    <tr>\n",
       "      <th>16</th>\n",
       "      <td>district</td>\n",
       "      <td>1</td>\n",
       "      <td>159180</td>\n",
       "      <td>393530</td>\n",
       "      <td>0.404493</td>\n",
       "    </tr>\n",
       "    <tr>\n",
       "      <th>19</th>\n",
       "      <td>neworder</td>\n",
       "      <td>1</td>\n",
       "      <td>116321</td>\n",
       "      <td>390960</td>\n",
       "      <td>0.297527</td>\n",
       "    </tr>\n",
       "    <tr>\n",
       "      <th>23</th>\n",
       "      <td>orders</td>\n",
       "      <td>1</td>\n",
       "      <td>26426</td>\n",
       "      <td>390960</td>\n",
       "      <td>0.067593</td>\n",
       "    </tr>\n",
       "    <tr>\n",
       "      <th>18</th>\n",
       "      <td>customer</td>\n",
       "      <td>1</td>\n",
       "      <td>95</td>\n",
       "      <td>389110</td>\n",
       "      <td>0.000244</td>\n",
       "    </tr>\n",
       "    <tr>\n",
       "      <th>17</th>\n",
       "      <td>stock</td>\n",
       "      <td>1</td>\n",
       "      <td>44</td>\n",
       "      <td>1976930</td>\n",
       "      <td>0.000022</td>\n",
       "    </tr>\n",
       "  </tbody>\n",
       "</table>\n",
       "</div>"
      ],
      "text/plain": [
       "        table  horizon  num_correct  num_total  percent_correct\n",
       "20  warehouse        1       195800     195800         1.000000\n",
       "21    history        1       192269     195840         0.981766\n",
       "22  orderline        1      3727266    4072510         0.915226\n",
       "16   district        1       159180     393530         0.404493\n",
       "19   neworder        1       116321     390960         0.297527\n",
       "23     orders        1        26426     390960         0.067593\n",
       "18   customer        1           95     389110         0.000244\n",
       "17      stock        1           44    1976930         0.000022"
      ]
     },
     "execution_count": 63,
     "metadata": {},
     "output_type": "execute_result"
    }
   ],
   "source": [
    "stats_local_df[stats_local_df['horizon'] == 1].sort_values('percent_correct', ascending=False)"
   ]
  },
  {
   "cell_type": "code",
   "execution_count": 64,
   "metadata": {},
   "outputs": [],
   "source": [
    "per_table_accuracies_local = stats_local_df.pivot(index='table', columns='horizon', values='percent_correct').sort_values(by='table')\n",
    "per_table_accuracies_local\n",
    "stats_local_df.to_csv('outputs/local_model_per_table_accuracy_by_horizon.csv', index=False)"
   ]
  },
  {
   "cell_type": "code",
   "execution_count": 69,
   "metadata": {},
   "outputs": [
    {
     "data": {
      "image/png": "[encoded data removed]",
      "text/plain": [
       "<Figure size 1000x500 with 1 Axes>"
      ]
     },
     "metadata": {},
     "output_type": "display_data"
    }
   ],
   "source": [
    "per_table_accuracies_local.sort_values(by='table').plot(kind='bar', figsize=(10,5), title='Local Model: Per Table Accuracy by Horizon')\n",
    "plt.xlabel('Table')\n",
    "plt.ylabel('Accuracy')\n",
    "plt.xticks(rotation=45)\n",
    "plt.legend(title='Horizon')\n",
    "# Save figure\n",
    "plt.savefig('outputs/local_model_per_table_accuracy_by_horizon.png', bbox_inches='tight')"
   ]
  },
  {
   "cell_type": "code",
   "execution_count": null,
   "metadata": {},
   "outputs": [],
   "source": []
  }
 ],
 "metadata": {
  "kernelspec": {
   "display_name": ".venv",
   "language": "python",
   "name": "python3"
  },
  "language_info": {
   "codemirror_mode": {
    "name": "ipython",
    "version": 3
   },
   "file_extension": ".py",
   "mimetype": "text/x-python",
   "name": "python",
   "nbconvert_exporter": "python",
   "pygments_lexer": "ipython3",
   "version": "3.10.16"
  }
 },
 "nbformat": 4,
 "nbformat_minor": 2
}
