{
 "cells": [
  {
   "cell_type": "code",
   "execution_count": 9,
   "metadata": {},
   "outputs": [],
   "source": [
    "import pandas as pd\n",
    "import matplotlib.pyplot as plt\n",
    "import numpy as np"
   ]
  },
  {
   "cell_type": "markdown",
   "metadata": {},
   "source": [
    "# Row Locks:"
   ]
  },
  {
   "cell_type": "code",
   "execution_count": 3,
   "metadata": {},
   "outputs": [],
   "source": [
    "predictions = pd.read_parquet('/Users/adamsorrenti/Documents/GitHub/lock-pred/results/fixed/exp-6-row-locks/predictions.parquet')\n",
    "in_lock_sequences = pd.read_parquet('/Users/adamsorrenti/Documents/GitHub/lock-pred/results/fixed/exp-6-row-locks/in_lock_sequences.parquet')"
   ]
  },
  {
   "cell_type": "code",
   "execution_count": 17,
   "metadata": {},
   "outputs": [
    {
     "data": {
      "text/html": [
       "<div>\n",
       "<style scoped>\n",
       "    .dataframe tbody tr th:only-of-type {\n",
       "        vertical-align: middle;\n",
       "    }\n",
       "\n",
       "    .dataframe tbody tr th {\n",
       "        vertical-align: top;\n",
       "    }\n",
       "\n",
       "    .dataframe thead th {\n",
       "        text-align: right;\n",
       "    }\n",
       "</style>\n",
       "<table border=\"1\" class=\"dataframe\">\n",
       "  <thead>\n",
       "    <tr style=\"text-align: right;\">\n",
       "      <th></th>\n",
       "      <th>in_lock_sequences_id</th>\n",
       "      <th>model</th>\n",
       "      <th>data</th>\n",
       "      <th>train_data_percent_used</th>\n",
       "      <th>epochs</th>\n",
       "      <th>batch_size</th>\n",
       "      <th>learning_rate</th>\n",
       "      <th>seq_length</th>\n",
       "      <th>test_split</th>\n",
       "      <th>val_split</th>\n",
       "      <th>...</th>\n",
       "      <th>token_length_seq</th>\n",
       "      <th>lstm_pe</th>\n",
       "      <th>naive_baseline</th>\n",
       "      <th>disable_cache</th>\n",
       "      <th>model_weights</th>\n",
       "      <th>gt_table</th>\n",
       "      <th>gt_pageid</th>\n",
       "      <th>pred_table</th>\n",
       "      <th>pred_pageid</th>\n",
       "      <th>horizon_position</th>\n",
       "    </tr>\n",
       "  </thead>\n",
       "  <tbody>\n",
       "    <tr>\n",
       "      <th>0</th>\n",
       "      <td>1</td>\n",
       "      <td>transformer</td>\n",
       "      <td>data/fixed/row_locks.csv</td>\n",
       "      <td>1.0</td>\n",
       "      <td>30</td>\n",
       "      <td>32</td>\n",
       "      <td>0.001</td>\n",
       "      <td>50</td>\n",
       "      <td>0.3</td>\n",
       "      <td>0.0</td>\n",
       "      <td>...</td>\n",
       "      <td>True</td>\n",
       "      <td>False</td>\n",
       "      <td>False</td>\n",
       "      <td>False</td>\n",
       "      <td>results/fixed/exp-6-row-locks/char__transforme...</td>\n",
       "      <td>orderline</td>\n",
       "      <td>65381</td>\n",
       "      <td>orderline</td>\n",
       "      <td>65381.0</td>\n",
       "      <td>1</td>\n",
       "    </tr>\n",
       "    <tr>\n",
       "      <th>1</th>\n",
       "      <td>2</td>\n",
       "      <td>transformer</td>\n",
       "      <td>data/fixed/row_locks.csv</td>\n",
       "      <td>1.0</td>\n",
       "      <td>30</td>\n",
       "      <td>32</td>\n",
       "      <td>0.001</td>\n",
       "      <td>50</td>\n",
       "      <td>0.3</td>\n",
       "      <td>0.0</td>\n",
       "      <td>...</td>\n",
       "      <td>True</td>\n",
       "      <td>False</td>\n",
       "      <td>False</td>\n",
       "      <td>False</td>\n",
       "      <td>results/fixed/exp-6-row-locks/char__transforme...</td>\n",
       "      <td>stock</td>\n",
       "      <td>2531</td>\n",
       "      <td>stock</td>\n",
       "      <td>37711.0</td>\n",
       "      <td>1</td>\n",
       "    </tr>\n",
       "    <tr>\n",
       "      <th>2</th>\n",
       "      <td>3</td>\n",
       "      <td>transformer</td>\n",
       "      <td>data/fixed/row_locks.csv</td>\n",
       "      <td>1.0</td>\n",
       "      <td>30</td>\n",
       "      <td>32</td>\n",
       "      <td>0.001</td>\n",
       "      <td>50</td>\n",
       "      <td>0.3</td>\n",
       "      <td>0.0</td>\n",
       "      <td>...</td>\n",
       "      <td>True</td>\n",
       "      <td>False</td>\n",
       "      <td>False</td>\n",
       "      <td>False</td>\n",
       "      <td>results/fixed/exp-6-row-locks/char__transforme...</td>\n",
       "      <td>orderline</td>\n",
       "      <td>65381</td>\n",
       "      <td>orderline</td>\n",
       "      <td>65381.0</td>\n",
       "      <td>1</td>\n",
       "    </tr>\n",
       "    <tr>\n",
       "      <th>3</th>\n",
       "      <td>4</td>\n",
       "      <td>transformer</td>\n",
       "      <td>data/fixed/row_locks.csv</td>\n",
       "      <td>1.0</td>\n",
       "      <td>30</td>\n",
       "      <td>32</td>\n",
       "      <td>0.001</td>\n",
       "      <td>50</td>\n",
       "      <td>0.3</td>\n",
       "      <td>0.0</td>\n",
       "      <td>...</td>\n",
       "      <td>True</td>\n",
       "      <td>False</td>\n",
       "      <td>False</td>\n",
       "      <td>False</td>\n",
       "      <td>results/fixed/exp-6-row-locks/char__transforme...</td>\n",
       "      <td>stock</td>\n",
       "      <td>77377</td>\n",
       "      <td>stock</td>\n",
       "      <td>21111.0</td>\n",
       "      <td>1</td>\n",
       "    </tr>\n",
       "    <tr>\n",
       "      <th>4</th>\n",
       "      <td>5</td>\n",
       "      <td>transformer</td>\n",
       "      <td>data/fixed/row_locks.csv</td>\n",
       "      <td>1.0</td>\n",
       "      <td>30</td>\n",
       "      <td>32</td>\n",
       "      <td>0.001</td>\n",
       "      <td>50</td>\n",
       "      <td>0.3</td>\n",
       "      <td>0.0</td>\n",
       "      <td>...</td>\n",
       "      <td>True</td>\n",
       "      <td>False</td>\n",
       "      <td>False</td>\n",
       "      <td>False</td>\n",
       "      <td>results/fixed/exp-6-row-locks/char__transforme...</td>\n",
       "      <td>stock</td>\n",
       "      <td>77377</td>\n",
       "      <td>stock</td>\n",
       "      <td>21111.0</td>\n",
       "      <td>1</td>\n",
       "    </tr>\n",
       "  </tbody>\n",
       "</table>\n",
       "<p>5 rows × 33 columns</p>\n",
       "</div>"
      ],
      "text/plain": [
       "   in_lock_sequences_id        model                      data  \\\n",
       "0                     1  transformer  data/fixed/row_locks.csv   \n",
       "1                     2  transformer  data/fixed/row_locks.csv   \n",
       "2                     3  transformer  data/fixed/row_locks.csv   \n",
       "3                     4  transformer  data/fixed/row_locks.csv   \n",
       "4                     5  transformer  data/fixed/row_locks.csv   \n",
       "\n",
       "   train_data_percent_used  epochs  batch_size  learning_rate  seq_length  \\\n",
       "0                      1.0      30          32          0.001          50   \n",
       "1                      1.0      30          32          0.001          50   \n",
       "2                      1.0      30          32          0.001          50   \n",
       "3                      1.0      30          32          0.001          50   \n",
       "4                      1.0      30          32          0.001          50   \n",
       "\n",
       "   test_split  val_split  ...  token_length_seq lstm_pe  naive_baseline  \\\n",
       "0         0.3        0.0  ...              True   False           False   \n",
       "1         0.3        0.0  ...              True   False           False   \n",
       "2         0.3        0.0  ...              True   False           False   \n",
       "3         0.3        0.0  ...              True   False           False   \n",
       "4         0.3        0.0  ...              True   False           False   \n",
       "\n",
       "  disable_cache                                      model_weights   gt_table  \\\n",
       "0         False  results/fixed/exp-6-row-locks/char__transforme...  orderline   \n",
       "1         False  results/fixed/exp-6-row-locks/char__transforme...      stock   \n",
       "2         False  results/fixed/exp-6-row-locks/char__transforme...  orderline   \n",
       "3         False  results/fixed/exp-6-row-locks/char__transforme...      stock   \n",
       "4         False  results/fixed/exp-6-row-locks/char__transforme...      stock   \n",
       "\n",
       "   gt_pageid  pred_table  pred_pageid  horizon_position  \n",
       "0      65381   orderline      65381.0                 1  \n",
       "1       2531       stock      37711.0                 1  \n",
       "2      65381   orderline      65381.0                 1  \n",
       "3      77377       stock      21111.0                 1  \n",
       "4      77377       stock      21111.0                 1  \n",
       "\n",
       "[5 rows x 33 columns]"
      ]
     },
     "execution_count": 17,
     "metadata": {},
     "output_type": "execute_result"
    }
   ],
   "source": [
    "predictions.head()"
   ]
  },
  {
   "cell_type": "code",
   "execution_count": 18,
   "metadata": {},
   "outputs": [
    {
     "data": {
      "text/html": [
       "<div>\n",
       "<style scoped>\n",
       "    .dataframe tbody tr th:only-of-type {\n",
       "        vertical-align: middle;\n",
       "    }\n",
       "\n",
       "    .dataframe tbody tr th {\n",
       "        vertical-align: top;\n",
       "    }\n",
       "\n",
       "    .dataframe thead th {\n",
       "        text-align: right;\n",
       "    }\n",
       "</style>\n",
       "<table border=\"1\" class=\"dataframe\">\n",
       "  <thead>\n",
       "    <tr style=\"text-align: right;\">\n",
       "      <th></th>\n",
       "      <th>in_lock_sequences</th>\n",
       "      <th>in_lock_sequences_id</th>\n",
       "    </tr>\n",
       "  </thead>\n",
       "  <tbody>\n",
       "    <tr>\n",
       "      <th>0</th>\n",
       "      <td>customer 5 4 9 1 8 history 6 2 9 1 warehouse 4...</td>\n",
       "      <td>1</td>\n",
       "    </tr>\n",
       "    <tr>\n",
       "      <th>1</th>\n",
       "      <td>history 6 2 9 1 warehouse 4 district 4 custome...</td>\n",
       "      <td>2</td>\n",
       "    </tr>\n",
       "    <tr>\n",
       "      <th>2</th>\n",
       "      <td>warehouse 4 district 4 customer 3 9 1 3 8 hist...</td>\n",
       "      <td>3</td>\n",
       "    </tr>\n",
       "    <tr>\n",
       "      <th>3</th>\n",
       "      <td>district 4 customer 3 9 1 3 8 history 6 2 9 1 ...</td>\n",
       "      <td>4</td>\n",
       "    </tr>\n",
       "    <tr>\n",
       "      <th>4</th>\n",
       "      <td>customer 3 9 1 3 8 history 6 2 9 1 district 5 ...</td>\n",
       "      <td>5</td>\n",
       "    </tr>\n",
       "  </tbody>\n",
       "</table>\n",
       "</div>"
      ],
      "text/plain": [
       "                                   in_lock_sequences  in_lock_sequences_id\n",
       "0  customer 5 4 9 1 8 history 6 2 9 1 warehouse 4...                     1\n",
       "1  history 6 2 9 1 warehouse 4 district 4 custome...                     2\n",
       "2  warehouse 4 district 4 customer 3 9 1 3 8 hist...                     3\n",
       "3  district 4 customer 3 9 1 3 8 history 6 2 9 1 ...                     4\n",
       "4  customer 3 9 1 3 8 history 6 2 9 1 district 5 ...                     5"
      ]
     },
     "execution_count": 18,
     "metadata": {},
     "output_type": "execute_result"
    }
   ],
   "source": [
    "in_lock_sequences.head()"
   ]
  },
  {
   "cell_type": "markdown",
   "metadata": {},
   "source": [
    "---"
   ]
  },
  {
   "cell_type": "markdown",
   "metadata": {},
   "source": [
    "## Data Sanity Checks"
   ]
  },
  {
   "cell_type": "code",
   "execution_count": 38,
   "metadata": {},
   "outputs": [
    {
     "data": {
      "text/html": [
       "<div>\n",
       "<style scoped>\n",
       "    .dataframe tbody tr th:only-of-type {\n",
       "        vertical-align: middle;\n",
       "    }\n",
       "\n",
       "    .dataframe tbody tr th {\n",
       "        vertical-align: top;\n",
       "    }\n",
       "\n",
       "    .dataframe thead th {\n",
       "        text-align: right;\n",
       "    }\n",
       "</style>\n",
       "<table border=\"1\" class=\"dataframe\">\n",
       "  <thead>\n",
       "    <tr style=\"text-align: right;\">\n",
       "      <th></th>\n",
       "      <th>in_lock_sequences_id</th>\n",
       "      <th>train_data_percent_used</th>\n",
       "      <th>epochs</th>\n",
       "      <th>batch_size</th>\n",
       "      <th>learning_rate</th>\n",
       "      <th>seq_length</th>\n",
       "      <th>test_split</th>\n",
       "      <th>val_split</th>\n",
       "      <th>vocab_size</th>\n",
       "      <th>patience</th>\n",
       "      <th>horizon</th>\n",
       "      <th>gt_pageid</th>\n",
       "      <th>pred_pageid</th>\n",
       "      <th>horizon_position</th>\n",
       "    </tr>\n",
       "  </thead>\n",
       "  <tbody>\n",
       "    <tr>\n",
       "      <th>count</th>\n",
       "      <td>8.005883e+07</td>\n",
       "      <td>80058830.0</td>\n",
       "      <td>80058830.0</td>\n",
       "      <td>80058830.0</td>\n",
       "      <td>8.005883e+07</td>\n",
       "      <td>80058830.0</td>\n",
       "      <td>8.005883e+07</td>\n",
       "      <td>80058830.0</td>\n",
       "      <td>80058830.0</td>\n",
       "      <td>80058830.0</td>\n",
       "      <td>80058830.0</td>\n",
       "      <td>8.005883e+07</td>\n",
       "      <td>8.004642e+07</td>\n",
       "      <td>80058830.0</td>\n",
       "    </tr>\n",
       "    <tr>\n",
       "      <th>mean</th>\n",
       "      <td>3.622722e+05</td>\n",
       "      <td>1.0</td>\n",
       "      <td>30.0</td>\n",
       "      <td>32.0</td>\n",
       "      <td>1.000000e-03</td>\n",
       "      <td>50.0</td>\n",
       "      <td>3.000000e-01</td>\n",
       "      <td>0.0</td>\n",
       "      <td>900.0</td>\n",
       "      <td>5.0</td>\n",
       "      <td>3.0</td>\n",
       "      <td>4.946564e+04</td>\n",
       "      <td>1.725425e+15</td>\n",
       "      <td>2.0</td>\n",
       "    </tr>\n",
       "    <tr>\n",
       "      <th>std</th>\n",
       "      <td>2.104680e+05</td>\n",
       "      <td>0.0</td>\n",
       "      <td>0.0</td>\n",
       "      <td>0.0</td>\n",
       "      <td>2.385245e-18</td>\n",
       "      <td>0.0</td>\n",
       "      <td>3.241851e-14</td>\n",
       "      <td>0.0</td>\n",
       "      <td>0.0</td>\n",
       "      <td>0.0</td>\n",
       "      <td>1.0</td>\n",
       "      <td>2.659063e+04</td>\n",
       "      <td>1.036102e+19</td>\n",
       "      <td>1.0</td>\n",
       "    </tr>\n",
       "    <tr>\n",
       "      <th>min</th>\n",
       "      <td>1.000000e+00</td>\n",
       "      <td>1.0</td>\n",
       "      <td>30.0</td>\n",
       "      <td>32.0</td>\n",
       "      <td>1.000000e-03</td>\n",
       "      <td>50.0</td>\n",
       "      <td>3.000000e-01</td>\n",
       "      <td>0.0</td>\n",
       "      <td>900.0</td>\n",
       "      <td>5.0</td>\n",
       "      <td>1.0</td>\n",
       "      <td>1.000000e+00</td>\n",
       "      <td>0.000000e+00</td>\n",
       "      <td>1.0</td>\n",
       "    </tr>\n",
       "    <tr>\n",
       "      <th>25%</th>\n",
       "      <td>1.803920e+05</td>\n",
       "      <td>1.0</td>\n",
       "      <td>30.0</td>\n",
       "      <td>32.0</td>\n",
       "      <td>1.000000e-03</td>\n",
       "      <td>50.0</td>\n",
       "      <td>3.000000e-01</td>\n",
       "      <td>0.0</td>\n",
       "      <td>900.0</td>\n",
       "      <td>5.0</td>\n",
       "      <td>2.0</td>\n",
       "      <td>2.741500e+04</td>\n",
       "      <td>3.857000e+03</td>\n",
       "      <td>1.0</td>\n",
       "    </tr>\n",
       "    <tr>\n",
       "      <th>50%</th>\n",
       "      <td>3.611360e+05</td>\n",
       "      <td>1.0</td>\n",
       "      <td>30.0</td>\n",
       "      <td>32.0</td>\n",
       "      <td>1.000000e-03</td>\n",
       "      <td>50.0</td>\n",
       "      <td>3.000000e-01</td>\n",
       "      <td>0.0</td>\n",
       "      <td>900.0</td>\n",
       "      <td>5.0</td>\n",
       "      <td>3.0</td>\n",
       "      <td>6.494600e+04</td>\n",
       "      <td>6.359700e+04</td>\n",
       "      <td>2.0</td>\n",
       "    </tr>\n",
       "    <tr>\n",
       "      <th>75%</th>\n",
       "      <td>5.445760e+05</td>\n",
       "      <td>1.0</td>\n",
       "      <td>30.0</td>\n",
       "      <td>32.0</td>\n",
       "      <td>1.000000e-03</td>\n",
       "      <td>50.0</td>\n",
       "      <td>3.000000e-01</td>\n",
       "      <td>0.0</td>\n",
       "      <td>900.0</td>\n",
       "      <td>5.0</td>\n",
       "      <td>4.0</td>\n",
       "      <td>6.687300e+04</td>\n",
       "      <td>6.627800e+04</td>\n",
       "      <td>3.0</td>\n",
       "    </tr>\n",
       "    <tr>\n",
       "      <th>max</th>\n",
       "      <td>7.293320e+05</td>\n",
       "      <td>1.0</td>\n",
       "      <td>30.0</td>\n",
       "      <td>32.0</td>\n",
       "      <td>1.000000e-03</td>\n",
       "      <td>50.0</td>\n",
       "      <td>3.000000e-01</td>\n",
       "      <td>0.0</td>\n",
       "      <td>900.0</td>\n",
       "      <td>5.0</td>\n",
       "      <td>4.0</td>\n",
       "      <td>9.091000e+04</td>\n",
       "      <td>6.845867e+22</td>\n",
       "      <td>4.0</td>\n",
       "    </tr>\n",
       "  </tbody>\n",
       "</table>\n",
       "</div>"
      ],
      "text/plain": [
       "       in_lock_sequences_id  train_data_percent_used      epochs  batch_size  \\\n",
       "count          8.005883e+07               80058830.0  80058830.0  80058830.0   \n",
       "mean           3.622722e+05                      1.0        30.0        32.0   \n",
       "std            2.104680e+05                      0.0         0.0         0.0   \n",
       "min            1.000000e+00                      1.0        30.0        32.0   \n",
       "25%            1.803920e+05                      1.0        30.0        32.0   \n",
       "50%            3.611360e+05                      1.0        30.0        32.0   \n",
       "75%            5.445760e+05                      1.0        30.0        32.0   \n",
       "max            7.293320e+05                      1.0        30.0        32.0   \n",
       "\n",
       "       learning_rate  seq_length    test_split   val_split  vocab_size  \\\n",
       "count   8.005883e+07  80058830.0  8.005883e+07  80058830.0  80058830.0   \n",
       "mean    1.000000e-03        50.0  3.000000e-01         0.0       900.0   \n",
       "std     2.385245e-18         0.0  3.241851e-14         0.0         0.0   \n",
       "min     1.000000e-03        50.0  3.000000e-01         0.0       900.0   \n",
       "25%     1.000000e-03        50.0  3.000000e-01         0.0       900.0   \n",
       "50%     1.000000e-03        50.0  3.000000e-01         0.0       900.0   \n",
       "75%     1.000000e-03        50.0  3.000000e-01         0.0       900.0   \n",
       "max     1.000000e-03        50.0  3.000000e-01         0.0       900.0   \n",
       "\n",
       "         patience     horizon     gt_pageid   pred_pageid  horizon_position  \n",
       "count  80058830.0  80058830.0  8.005883e+07  8.004642e+07        80058830.0  \n",
       "mean          5.0         3.0  4.946564e+04  1.725425e+15               2.0  \n",
       "std           0.0         1.0  2.659063e+04  1.036102e+19               1.0  \n",
       "min           5.0         1.0  1.000000e+00  0.000000e+00               1.0  \n",
       "25%           5.0         2.0  2.741500e+04  3.857000e+03               1.0  \n",
       "50%           5.0         3.0  6.494600e+04  6.359700e+04               2.0  \n",
       "75%           5.0         4.0  6.687300e+04  6.627800e+04               3.0  \n",
       "max           5.0         4.0  9.091000e+04  6.845867e+22               4.0  "
      ]
     },
     "execution_count": 38,
     "metadata": {},
     "output_type": "execute_result"
    }
   ],
   "source": [
    "predictions.describe()"
   ]
  },
  {
   "cell_type": "markdown",
   "metadata": {},
   "source": [
    "### Lets see how many groups of predicitons exist\n",
    "There should be 40, which is 10 repitions by 4 horizons"
   ]
  },
  {
   "cell_type": "code",
   "execution_count": null,
   "metadata": {},
   "outputs": [],
   "source": [
    "unique_groups = predictions.drop(columns=['gt_pageid', 'pred_pageid', 'horizon_position', 'in_lock_sequences_id', 'gt_table', 'pred_table']).drop_duplicates()"
   ]
  },
  {
   "cell_type": "code",
   "execution_count": 50,
   "metadata": {},
   "outputs": [
    {
     "data": {
      "text/plain": [
       "model                       1\n",
       "data                        1\n",
       "train_data_percent_used     1\n",
       "epochs                      1\n",
       "batch_size                  1\n",
       "learning_rate               1\n",
       "seq_length                  1\n",
       "test_split                  1\n",
       "val_split                   1\n",
       "vocab_size                  1\n",
       "tokenization                1\n",
       "patience                    1\n",
       "results_dir                 1\n",
       "experiment_name             1\n",
       "horizon                     4\n",
       "shuffle                     1\n",
       "add_start_end_tokens        1\n",
       "add_row_id                  1\n",
       "add_label_tokens            1\n",
       "disable_train_shuffle       1\n",
       "early_stopping              1\n",
       "remove_system_tables        1\n",
       "token_length_seq            1\n",
       "lstm_pe                     1\n",
       "naive_baseline              1\n",
       "disable_cache               1\n",
       "model_weights              40\n",
       "dtype: int64"
      ]
     },
     "execution_count": 50,
     "metadata": {},
     "output_type": "execute_result"
    }
   ],
   "source": [
    "unique_groups.nunique()"
   ]
  },
  {
   "cell_type": "markdown",
   "metadata": {},
   "source": [
    "### Lets now check the number of rows for increasing number of horizons\n",
    "This should be equal to a multiple of the number of rows when `horizon==1` (since each horzion positions is its own row)"
   ]
  },
  {
   "cell_type": "code",
   "execution_count": 52,
   "metadata": {},
   "outputs": [
    {
     "data": {
      "text/plain": [
       "8005890"
      ]
     },
     "execution_count": 52,
     "metadata": {},
     "output_type": "execute_result"
    }
   ],
   "source": [
    "num_of_pred = predictions[predictions['horizon'] == 1].shape[0]\n",
    "num_of_pred"
   ]
  },
  {
   "cell_type": "code",
   "execution_count": 59,
   "metadata": {},
   "outputs": [
    {
     "ename": "AssertionError",
     "evalue": "('Number of predictions for horizon 4 is not correct.', 'Expected: 32023560', 'Actual: 32023520', 'Difference: 40')",
     "output_type": "error",
     "traceback": [
      "\u001b[0;31m---------------------------------------------------------------------------\u001b[0m",
      "\u001b[0;31mAssertionError\u001b[0m                            Traceback (most recent call last)",
      "Cell \u001b[0;32mIn[59], line 2\u001b[0m\n\u001b[1;32m      1\u001b[0m \u001b[38;5;28;01mfor\u001b[39;00m horizon \u001b[38;5;129;01min\u001b[39;00m predictions[\u001b[38;5;124m'\u001b[39m\u001b[38;5;124mhorizon\u001b[39m\u001b[38;5;124m'\u001b[39m]\u001b[38;5;241m.\u001b[39munique():\n\u001b[0;32m----> 2\u001b[0m     \u001b[38;5;28;01massert\u001b[39;00m num_of_pred \u001b[38;5;241m*\u001b[39m horizon \u001b[38;5;241m==\u001b[39m predictions[predictions[\u001b[38;5;124m'\u001b[39m\u001b[38;5;124mhorizon\u001b[39m\u001b[38;5;124m'\u001b[39m] \u001b[38;5;241m==\u001b[39m horizon]\u001b[38;5;241m.\u001b[39mshape[\u001b[38;5;241m0\u001b[39m], (\n\u001b[1;32m      3\u001b[0m         \u001b[38;5;124mf\u001b[39m\u001b[38;5;124m\"\u001b[39m\u001b[38;5;124mNumber of predictions for horizon \u001b[39m\u001b[38;5;132;01m{\u001b[39;00mhorizon\u001b[38;5;132;01m}\u001b[39;00m\u001b[38;5;124m is not correct.\u001b[39m\u001b[38;5;124m\"\u001b[39m,\n\u001b[1;32m      4\u001b[0m         \u001b[38;5;124mf\u001b[39m\u001b[38;5;124m\"\u001b[39m\u001b[38;5;124mExpected: \u001b[39m\u001b[38;5;132;01m{\u001b[39;00mnum_of_pred\u001b[38;5;250m \u001b[39m\u001b[38;5;241m*\u001b[39m\u001b[38;5;250m \u001b[39mhorizon\u001b[38;5;132;01m}\u001b[39;00m\u001b[38;5;124m\"\u001b[39m,\n\u001b[1;32m      5\u001b[0m         \u001b[38;5;124mf\u001b[39m\u001b[38;5;124m\"\u001b[39m\u001b[38;5;124mActual: \u001b[39m\u001b[38;5;132;01m{\u001b[39;00mpredictions[predictions[\u001b[38;5;124m'\u001b[39m\u001b[38;5;124mhorizon\u001b[39m\u001b[38;5;124m'\u001b[39m]\u001b[38;5;250m \u001b[39m\u001b[38;5;241m==\u001b[39m\u001b[38;5;250m \u001b[39mhorizon]\u001b[38;5;241m.\u001b[39mshape[\u001b[38;5;241m0\u001b[39m]\u001b[38;5;132;01m}\u001b[39;00m\u001b[38;5;124m\"\u001b[39m,\n\u001b[1;32m      6\u001b[0m         \u001b[38;5;124mf\u001b[39m\u001b[38;5;124m\"\u001b[39m\u001b[38;5;124mDifference: \u001b[39m\u001b[38;5;132;01m{\u001b[39;00mnum_of_pred\u001b[38;5;250m \u001b[39m\u001b[38;5;241m*\u001b[39m\u001b[38;5;250m \u001b[39mhorizon\u001b[38;5;250m \u001b[39m\u001b[38;5;241m-\u001b[39m\u001b[38;5;250m \u001b[39mpredictions[predictions[\u001b[38;5;124m'\u001b[39m\u001b[38;5;124mhorizon\u001b[39m\u001b[38;5;124m'\u001b[39m]\u001b[38;5;250m \u001b[39m\u001b[38;5;241m==\u001b[39m\u001b[38;5;250m \u001b[39mhorizon]\u001b[38;5;241m.\u001b[39mshape[\u001b[38;5;241m0\u001b[39m]\u001b[38;5;132;01m}\u001b[39;00m\u001b[38;5;124m\"\u001b[39m\n\u001b[1;32m      7\u001b[0m     )\n",
      "\u001b[0;31mAssertionError\u001b[0m: ('Number of predictions for horizon 4 is not correct.', 'Expected: 32023560', 'Actual: 32023520', 'Difference: 40')"
     ]
    }
   ],
   "source": [
    "for horizon in predictions['horizon'].unique():\n",
    "    assert num_of_pred * horizon == predictions[predictions['horizon'] == horizon].shape[0], (\n",
    "        f\"Number of predictions for horizon {horizon} is not correct.\",\n",
    "        f\"Expected: {num_of_pred * horizon}\",\n",
    "        f\"Actual: {predictions[predictions['horizon'] == horizon].shape[0]}\",\n",
    "        f\"Difference: {num_of_pred * horizon - predictions[predictions['horizon'] == horizon].shape[0]}\"\n",
    "    )"
   ]
  },
  {
   "cell_type": "markdown",
   "metadata": {},
   "source": [
    "While I expected this assertion to hold, there may be a side-effect of sequence creation which larger horizons that I am not accounting for.\n",
    "\n",
    "For example, depending if there is any overlap between sequence, it may account for there being less than exactly `num_of_pred * horizon`."
   ]
  },
  {
   "cell_type": "code",
   "execution_count": 69,
   "metadata": {},
   "outputs": [
    {
     "data": {
      "text/plain": [
       "model_weights\n",
       "results/fixed/exp-6-row-locks/char__transformer_20250115_155211_4a9914df-44e7-4709-b93f-2899a05761e4/model.keras    3202352\n",
       "results/fixed/exp-6-row-locks/char__transformer_20250115_164639_11d92135-a44b-4015-9a03-3e37c93283f8/model.keras    3202352\n",
       "results/fixed/exp-6-row-locks/char__transformer_20250115_173807_5849bb81-9b78-440c-a791-a0da558ef007/model.keras    3202352\n",
       "results/fixed/exp-6-row-locks/char__transformer_20250115_183129_be0f75cf-94dc-4ed3-b3af-5843eac87069/model.keras    3202352\n",
       "results/fixed/exp-6-row-locks/char__transformer_20250115_192614_f92ff2c9-4f61-464c-a2ce-8872fa2d0fdb/model.keras    3202352\n",
       "results/fixed/exp-6-row-locks/char__transformer_20250115_202048_efb07517-a3b6-42d6-87ca-ede888c20210/model.keras    3202352\n",
       "results/fixed/exp-6-row-locks/char__transformer_20250115_211559_dc0328e3-f880-49f2-a274-42326e1c06d5/model.keras    3202352\n",
       "results/fixed/exp-6-row-locks/char__transformer_20250115_220832_37086c9c-1b81-463f-b306-6beb9cac68fd/model.keras    3202352\n",
       "results/fixed/exp-6-row-locks/char__transformer_20250115_230215_682ead62-0f1f-45bb-becd-7f8b8be51528/model.keras    3202352\n",
       "results/fixed/exp-6-row-locks/char__transformer_20250115_235501_0936125e-d6cd-4e4c-9fcc-e5480483aa89/model.keras    3202352\n",
       "Name: model_weights, dtype: int64"
      ]
     },
     "execution_count": 69,
     "metadata": {},
     "output_type": "execute_result"
    }
   ],
   "source": [
    "horizon_4_unqiue = predictions[predictions['horizon'] == 4]['model_weights'].groupby(predictions['model_weights'])\n",
    "horizon_4_unqiue.count()"
   ]
  },
  {
   "cell_type": "code",
   "execution_count": 72,
   "metadata": {},
   "outputs": [
    {
     "data": {
      "text/plain": [
       "True"
      ]
     },
     "execution_count": 72,
     "metadata": {},
     "output_type": "execute_result"
    }
   ],
   "source": [
    "horizon_4_unqiue.count().sum() == 32023520"
   ]
  },
  {
   "cell_type": "markdown",
   "metadata": {},
   "source": [
    "Above looks at how many rows there are for each repition of `horizon==4`. They are all the same, so this means we have 4 less rows for each of the 10 reps.\n",
    "\n",
    "This equates to only 1 less test example (since we split by horizon position, thus 4 less rows means 1 less lock prediciton at `horizon==4`)"
   ]
  },
  {
   "cell_type": "markdown",
   "metadata": {},
   "source": [
    "### Lets look at the distribution of pageid values"
   ]
  },
  {
   "cell_type": "code",
   "execution_count": 60,
   "metadata": {},
   "outputs": [
    {
     "data": {
      "text/plain": [
       "(0.0, 6.845866623866862e+22, 1725424805245443.2, 1.0361023799303481e+19)"
      ]
     },
     "execution_count": 60,
     "metadata": {},
     "output_type": "execute_result"
    }
   ],
   "source": [
    "predictions['pred_pageid'].min(), predictions['pred_pageid'].max(), predictions['pred_pageid'].mean(), predictions['pred_pageid'].std()"
   ]
  },
  {
   "cell_type": "markdown",
   "metadata": {},
   "source": [
    "Thats a very wide range of predicted page_ids. Lets checkout the histogram."
   ]
  },
  {
   "cell_type": "code",
   "execution_count": 61,
   "metadata": {},
   "outputs": [
    {
     "data": {
      "image/png": "[encoded data removed]",
      "text/plain": [
       "<Figure size 640x480 with 1 Axes>"
      ]
     },
     "metadata": {},
     "output_type": "display_data"
    },
    {
     "data": {
      "text/plain": [
       "(8858, (80058830, 33))"
      ]
     },
     "execution_count": 61,
     "metadata": {},
     "output_type": "execute_result"
    }
   ],
   "source": [
    "plt.hist(predictions['pred_pageid'], bins=np.logspace(0, 22, 20))\n",
    "plt.xscale('log')\n",
    "plt.title('Histogram of predicted pageids')\n",
    "plt.show()\n",
    "\n",
    "(predictions['pred_pageid'] > 10e4).sum(), predictions.shape"
   ]
  },
  {
   "cell_type": "code",
   "execution_count": 62,
   "metadata": {},
   "outputs": [
    {
     "data": {
      "image/png": "[encoded data removed]",
      "text/plain": [
       "<Figure size 640x480 with 1 Axes>"
      ]
     },
     "metadata": {},
     "output_type": "display_data"
    },
    {
     "data": {
      "text/plain": [
       "(0, (80058830, 33))"
      ]
     },
     "execution_count": 62,
     "metadata": {},
     "output_type": "execute_result"
    }
   ],
   "source": [
    "plt.hist(predictions['gt_pageid'], bins=np.logspace(0, 22, 20))\n",
    "plt.xscale('log')\n",
    "plt.title('Ground Truth Page ID')\n",
    "plt.show()\n",
    "\n",
    "(predictions['gt_pageid'] > 10e4).sum(), predictions.shape\n"
   ]
  },
  {
   "cell_type": "markdown",
   "metadata": {},
   "source": [
    "Okay everything, looks normal. We just have a few outliers in the prediction, but the ground truth looks good."
   ]
  },
  {
   "cell_type": "markdown",
   "metadata": {},
   "source": [
    "## Global vs. Local Analysis"
   ]
  },
  {
   "cell_type": "markdown",
   "metadata": {},
   "source": []
  }
 ],
 "metadata": {
  "kernelspec": {
   "display_name": ".venv",
   "language": "python",
   "name": "python3"
  },
  "language_info": {
   "codemirror_mode": {
    "name": "ipython",
    "version": 3
   },
   "file_extension": ".py",
   "mimetype": "text/x-python",
   "name": "python",
   "nbconvert_exporter": "python",
   "pygments_lexer": "ipython3",
   "version": "3.10.16"
  }
 },
 "nbformat": 4,
 "nbformat_minor": 2
}
