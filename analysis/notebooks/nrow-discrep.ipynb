{
 "cells": [
  {
   "cell_type": "markdown",
   "id": "8d27fc5e",
   "metadata": {},
   "source": [
    "# Number of row Discrepancy Hypothesis Validation\n",
    "There presists a discrepancy between the num of rows in local and global model evaluation dataframes (as show by the `nrow` function class at the end of `RQ3_analysis-reduced.R`)\n",
    "\n",
    "My current hypothesis is that this is related to how deduplications and binning are interacting. See [this thread](https://amirlab.slack.com/archives/C07H3A416GZ/p1749924605002809) more details.\n",
    "- Essentially, binned local models may have less duplicates becauce there is higher bin fidelity when binning is applied to each table seperate.\n",
    "\n",
    "This notebook hopes to validate that hypothesis by examining the deduplication logic found in `src/datapipeline.py`'s `prep_columns()` function for binned local and global data."
   ]
  },
  {
   "cell_type": "code",
   "execution_count": 11,
   "id": "ce845ec3",
   "metadata": {},
   "outputs": [],
   "source": [
    "import pandas as pd\n",
    "import numpy as np"
   ]
  },
  {
   "cell_type": "code",
   "execution_count": 12,
   "id": "7ec02ead",
   "metadata": {},
   "outputs": [
    {
     "data": {
      "application/vnd.microsoft.datawrangler.viewer.v0+json": {
       "columns": [
        {
         "name": "index",
         "rawType": "int64",
         "type": "integer"
        },
        {
         "name": "Start Unix Timestamp",
         "rawType": "int64",
         "type": "integer"
        },
        {
         "name": "TABNAME",
         "rawType": "object",
         "type": "string"
        },
        {
         "name": "PAGEID",
         "rawType": "int64",
         "type": "integer"
        }
       ],
       "ref": "236dd6ca-24c8-41d8-ad10-2defc639dc7f",
       "rows": [
        [
         "0",
         "1000",
         "Table1",
         "1"
        ],
        [
         "1",
         "1000",
         "Table1",
         "2"
        ],
        [
         "2",
         "1000",
         "Table2",
         "50"
        ],
        [
         "3",
         "1000",
         "Table2",
         "51"
        ],
        [
         "4",
         "2000",
         "Table1",
         "3"
        ],
        [
         "5",
         "2000",
         "Table1",
         "4"
        ],
        [
         "6",
         "2000",
         "Table2",
         "90"
        ],
        [
         "7",
         "2000",
         "Table2",
         "91"
        ]
       ],
       "shape": {
        "columns": 3,
        "rows": 8
       }
      },
      "text/html": [
       "<div>\n",
       "<style scoped>\n",
       "    .dataframe tbody tr th:only-of-type {\n",
       "        vertical-align: middle;\n",
       "    }\n",
       "\n",
       "    .dataframe tbody tr th {\n",
       "        vertical-align: top;\n",
       "    }\n",
       "\n",
       "    .dataframe thead th {\n",
       "        text-align: right;\n",
       "    }\n",
       "</style>\n",
       "<table border=\"1\" class=\"dataframe\">\n",
       "  <thead>\n",
       "    <tr style=\"text-align: right;\">\n",
       "      <th></th>\n",
       "      <th>Start Unix Timestamp</th>\n",
       "      <th>TABNAME</th>\n",
       "      <th>PAGEID</th>\n",
       "    </tr>\n",
       "  </thead>\n",
       "  <tbody>\n",
       "    <tr>\n",
       "      <th>0</th>\n",
       "      <td>1000</td>\n",
       "      <td>Table1</td>\n",
       "      <td>1</td>\n",
       "    </tr>\n",
       "    <tr>\n",
       "      <th>1</th>\n",
       "      <td>1000</td>\n",
       "      <td>Table1</td>\n",
       "      <td>2</td>\n",
       "    </tr>\n",
       "    <tr>\n",
       "      <th>2</th>\n",
       "      <td>1000</td>\n",
       "      <td>Table2</td>\n",
       "      <td>50</td>\n",
       "    </tr>\n",
       "    <tr>\n",
       "      <th>3</th>\n",
       "      <td>1000</td>\n",
       "      <td>Table2</td>\n",
       "      <td>51</td>\n",
       "    </tr>\n",
       "    <tr>\n",
       "      <th>4</th>\n",
       "      <td>2000</td>\n",
       "      <td>Table1</td>\n",
       "      <td>3</td>\n",
       "    </tr>\n",
       "    <tr>\n",
       "      <th>5</th>\n",
       "      <td>2000</td>\n",
       "      <td>Table1</td>\n",
       "      <td>4</td>\n",
       "    </tr>\n",
       "    <tr>\n",
       "      <th>6</th>\n",
       "      <td>2000</td>\n",
       "      <td>Table2</td>\n",
       "      <td>90</td>\n",
       "    </tr>\n",
       "    <tr>\n",
       "      <th>7</th>\n",
       "      <td>2000</td>\n",
       "      <td>Table2</td>\n",
       "      <td>91</td>\n",
       "    </tr>\n",
       "  </tbody>\n",
       "</table>\n",
       "</div>"
      ],
      "text/plain": [
       "   Start Unix Timestamp TABNAME  PAGEID\n",
       "0                  1000  Table1       1\n",
       "1                  1000  Table1       2\n",
       "2                  1000  Table2      50\n",
       "3                  1000  Table2      51\n",
       "4                  2000  Table1       3\n",
       "5                  2000  Table1       4\n",
       "6                  2000  Table2      90\n",
       "7                  2000  Table2      91"
      ]
     },
     "execution_count": 12,
     "metadata": {},
     "output_type": "execute_result"
    }
   ],
   "source": [
    "# Construct test DataFrame\n",
    "data = pd.DataFrame({\n",
    "    'Start Unix Timestamp': [1000, 1000, 1000, 1000, 2000, 2000, 2000, 2000],\n",
    "    'TABNAME': ['Table1', 'Table1', 'Table2', 'Table2', 'Table1', 'Table1', 'Table2', 'Table2'],\n",
    "    'PAGEID': [1, 2, 50, 51, 3, 4, 90, 91]\n",
    "})\n",
    "data"
   ]
  },
  {
   "cell_type": "code",
   "execution_count": 13,
   "id": "38385d46",
   "metadata": {},
   "outputs": [],
   "source": [
    "def global_method(df, num_bins):\n",
    "    df = df.copy()\n",
    "    df['PAGEID_bin'] = pd.cut(df['PAGEID'], bins=num_bins, duplicates='drop')\n",
    "    df_dedup = df.drop_duplicates(subset=['Start Unix Timestamp', 'TABNAME', 'PAGEID_bin'], keep='first')\n",
    "    return df_dedup"
   ]
  },
  {
   "cell_type": "code",
   "execution_count": 14,
   "id": "fa6a49d7",
   "metadata": {},
   "outputs": [],
   "source": [
    "def local_method(df, num_bins):\n",
    "    df = df.copy()\n",
    "    result = []\n",
    "    for _, group in df.groupby('TABNAME'):\n",
    "        group['PAGEID_bin'] = pd.cut(group['PAGEID'], bins=num_bins, duplicates='drop')\n",
    "        group_dedup = group.drop_duplicates(subset=['Start Unix Timestamp', 'TABNAME', 'PAGEID_bin'], keep='first')\n",
    "        result.append(group_dedup)\n",
    "    return pd.concat(result)"
   ]
  },
  {
   "cell_type": "code",
   "execution_count": null,
   "id": "08bbca67",
   "metadata": {},
   "outputs": [
    {
     "name": "stdout",
     "output_type": "stream",
     "text": [
      "Global method rows: 4\n",
      "Local method rows: 6\n",
      "\n",
      "Global result:\n",
      "   Start Unix Timestamp TABNAME  PAGEID    PAGEID_bin\n",
      "0                  1000  Table1       1  (0.91, 10.0]\n",
      "2                  1000  Table2      50  (46.0, 55.0]\n",
      "4                  2000  Table1       3  (0.91, 10.0]\n",
      "6                  2000  Table2      90  (82.0, 91.0]\n",
      "\n",
      "Local result:\n",
      "   Start Unix Timestamp TABNAME  PAGEID      PAGEID_bin\n",
      "0                  1000  Table1       1    (0.997, 1.3]\n",
      "1                  1000  Table1       2      (1.9, 2.2]\n",
      "4                  2000  Table1       3      (2.8, 3.1]\n",
      "5                  2000  Table1       4      (3.7, 4.0]\n",
      "2                  1000  Table2      50  (49.959, 54.1]\n",
      "6                  2000  Table2      90    (86.9, 91.0]\n"
     ]
    }
   ],
   "source": [
    "num_bins = 10\n",
    "\n",
    "global_result = global_method(data, num_bins)\n",
    "local_result = local_method(data, num_bins)\n",
    "\n",
    "# Compare row counts\n",
    "global_rows = len(global_result)\n",
    "local_rows = len(local_result)\n",
    "\n",
    "print(\"Global method rows:\", global_rows)\n",
    "print(\"Local method rows:\", local_rows)\n",
    "print(\"\\nGlobal result:\")\n",
    "print(global_result[['Start Unix Timestamp', 'TABNAME', 'PAGEID', 'PAGEID_bin']])\n",
    "print(\"\\nLocal result:\")\n",
    "print(local_result[['Start Unix Timestamp', 'TABNAME', 'PAGEID', 'PAGEID_bin']])"
   ]
  },
  {
   "cell_type": "markdown",
   "id": "1ea06790",
   "metadata": {},
   "source": [
    "Above we can see that the local method has more than the globa because the increased binning fidelity reduces the number of duplicates."
   ]
  },
  {
   "cell_type": "markdown",
   "id": "3379e1b5",
   "metadata": {},
   "source": []
  }
 ],
 "metadata": {
  "kernelspec": {
   "display_name": ".venv",
   "language": "python",
   "name": "python3"
  },
  "language_info": {
   "codemirror_mode": {
    "name": "ipython",
    "version": 3
   },
   "file_extension": ".py",
   "mimetype": "text/x-python",
   "name": "python",
   "nbconvert_exporter": "python",
   "pygments_lexer": "ipython3",
   "version": "3.10.16"
  }
 },
 "nbformat": 4,
 "nbformat_minor": 5
}
